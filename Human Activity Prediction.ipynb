{
 "cells": [
  {
   "cell_type": "markdown",
   "metadata": {},
   "source": [
    "# Human Activity Data on Kaggle\n",
    "\n",
    "https://www.kaggle.com/uciml/human-activity-recognition-with-smartphones\n",
    "\n",
    "The Human Activity Recognition database was built from the recordings of 30 study participants (19 - 48 years old) performing activities of daily living (ADL) while carrying a waist-mounted smartphone with embedded inertial sensors. The objective is to classify activities into one of the six activities (WALKING, WALKING_UPSTAIRS, WALKING_DOWNSTAIRS, SITTING, STANDING, LAYING) performed.\n",
    "\n",
    "They were wearing a smartphone (Samsung Galaxy S II) on the waist. Using its embedded accelerometer and gyroscope, we captured 3-axial linear acceleration and 3-axial angular velocity at a constant rate of 50Hz. The experiments have been video-recorded to label the data manually. \n",
    "\n",
    "The sensor signals (accelerometer and gyroscope) were pre-processed by applying noise filters and then sampled in fixed-width sliding windows of 2.56 sec and 50% overlap (128 readings/window). The sensor acceleration signal, which has gravitational and body motion components, was separated using a Butterworth low-pass filter into body acceleration and gravity. The gravitational force is assumed to have only low frequency components, therefore a filter with 0.3 Hz cutoff frequency was used. From each window, a vector of features was obtained by calculating variables from the time and frequency domain.\n",
    "\n",
    "For each record in the dataset the following is provided:\n",
    "\n",
    "- Triaxial acceleration from the accelerometer (total acceleration) and the estimated body acceleration.\n",
    "- Triaxial Angular velocity from the gyroscope.\n",
    "- A 561-feature vector with time and frequency domain variables.\n",
    "- Its activity label.\n",
    "- An identifier of the subject who carried out the experiment.\n",
    "\n",
    "Notes: \n",
    "======\n",
    "- Features are normalized and bounded within [-1,1].\n",
    "- Each feature vector is a row on the text file.\n",
    "- The units used for the accelerations (total and body) are 'g's (gravity of earth -> 9.80665 m/seg2).\n",
    "- The gyroscope units are rad/seg.\n",
    "- A video of the experiment including an example of the 6 recorded activities with one of the participants can be seen in the following link: http://www.youtube.com/watch?v=XOEN9W05_4A\n",
    "\n",
    "\n",
    "## Load Data"
   ]
  },
  {
   "cell_type": "code",
   "execution_count": 118,
   "metadata": {
    "collapsed": true
   },
   "outputs": [],
   "source": [
    "import numpy as np\n",
    "import pandas as pd\n",
    "import matplotlib.pyplot as plt\n",
    "import matplotlib.patches as mpatches\n",
    "\n",
    "% matplotlib inline"
   ]
  },
  {
   "cell_type": "code",
   "execution_count": 5,
   "metadata": {
    "collapsed": false
   },
   "outputs": [],
   "source": [
    "path = \"./human-activity-recognition-with-smartphones/\"\n",
    "train_filename = \"train.csv\"\n",
    "test_filename = \"test.csv\"\n",
    "train = pd.read_csv(path+train_filename)\n",
    "test = pd.read_csv(path+test_filename)"
   ]
  },
  {
   "cell_type": "code",
   "execution_count": 6,
   "metadata": {
    "collapsed": false
   },
   "outputs": [
    {
     "data": {
      "text/plain": [
       "(7352, 563)"
      ]
     },
     "execution_count": 6,
     "metadata": {},
     "output_type": "execute_result"
    }
   ],
   "source": [
    "train.shape"
   ]
  },
  {
   "cell_type": "code",
   "execution_count": 7,
   "metadata": {
    "collapsed": false
   },
   "outputs": [
    {
     "data": {
      "text/html": [
       "<div>\n",
       "<style>\n",
       "    .dataframe thead tr:only-child th {\n",
       "        text-align: right;\n",
       "    }\n",
       "\n",
       "    .dataframe thead th {\n",
       "        text-align: left;\n",
       "    }\n",
       "\n",
       "    .dataframe tbody tr th {\n",
       "        vertical-align: top;\n",
       "    }\n",
       "</style>\n",
       "<table border=\"1\" class=\"dataframe\">\n",
       "  <thead>\n",
       "    <tr style=\"text-align: right;\">\n",
       "      <th></th>\n",
       "      <th>tBodyAcc-mean()-X</th>\n",
       "      <th>tBodyAcc-mean()-Y</th>\n",
       "      <th>tBodyAcc-mean()-Z</th>\n",
       "      <th>tBodyAcc-std()-X</th>\n",
       "      <th>tBodyAcc-std()-Y</th>\n",
       "      <th>tBodyAcc-std()-Z</th>\n",
       "      <th>tBodyAcc-mad()-X</th>\n",
       "      <th>tBodyAcc-mad()-Y</th>\n",
       "      <th>tBodyAcc-mad()-Z</th>\n",
       "      <th>tBodyAcc-max()-X</th>\n",
       "      <th>...</th>\n",
       "      <th>fBodyBodyGyroJerkMag-kurtosis()</th>\n",
       "      <th>angle(tBodyAccMean,gravity)</th>\n",
       "      <th>angle(tBodyAccJerkMean),gravityMean)</th>\n",
       "      <th>angle(tBodyGyroMean,gravityMean)</th>\n",
       "      <th>angle(tBodyGyroJerkMean,gravityMean)</th>\n",
       "      <th>angle(X,gravityMean)</th>\n",
       "      <th>angle(Y,gravityMean)</th>\n",
       "      <th>angle(Z,gravityMean)</th>\n",
       "      <th>subject</th>\n",
       "      <th>Activity</th>\n",
       "    </tr>\n",
       "  </thead>\n",
       "  <tbody>\n",
       "    <tr>\n",
       "      <th>0</th>\n",
       "      <td>0.288585</td>\n",
       "      <td>-0.020294</td>\n",
       "      <td>-0.132905</td>\n",
       "      <td>-0.995279</td>\n",
       "      <td>-0.983111</td>\n",
       "      <td>-0.913526</td>\n",
       "      <td>-0.995112</td>\n",
       "      <td>-0.983185</td>\n",
       "      <td>-0.923527</td>\n",
       "      <td>-0.934724</td>\n",
       "      <td>...</td>\n",
       "      <td>-0.710304</td>\n",
       "      <td>-0.112754</td>\n",
       "      <td>0.030400</td>\n",
       "      <td>-0.464761</td>\n",
       "      <td>-0.018446</td>\n",
       "      <td>-0.841247</td>\n",
       "      <td>0.179941</td>\n",
       "      <td>-0.058627</td>\n",
       "      <td>1</td>\n",
       "      <td>STANDING</td>\n",
       "    </tr>\n",
       "    <tr>\n",
       "      <th>1</th>\n",
       "      <td>0.278419</td>\n",
       "      <td>-0.016411</td>\n",
       "      <td>-0.123520</td>\n",
       "      <td>-0.998245</td>\n",
       "      <td>-0.975300</td>\n",
       "      <td>-0.960322</td>\n",
       "      <td>-0.998807</td>\n",
       "      <td>-0.974914</td>\n",
       "      <td>-0.957686</td>\n",
       "      <td>-0.943068</td>\n",
       "      <td>...</td>\n",
       "      <td>-0.861499</td>\n",
       "      <td>0.053477</td>\n",
       "      <td>-0.007435</td>\n",
       "      <td>-0.732626</td>\n",
       "      <td>0.703511</td>\n",
       "      <td>-0.844788</td>\n",
       "      <td>0.180289</td>\n",
       "      <td>-0.054317</td>\n",
       "      <td>1</td>\n",
       "      <td>STANDING</td>\n",
       "    </tr>\n",
       "    <tr>\n",
       "      <th>2</th>\n",
       "      <td>0.279653</td>\n",
       "      <td>-0.019467</td>\n",
       "      <td>-0.113462</td>\n",
       "      <td>-0.995380</td>\n",
       "      <td>-0.967187</td>\n",
       "      <td>-0.978944</td>\n",
       "      <td>-0.996520</td>\n",
       "      <td>-0.963668</td>\n",
       "      <td>-0.977469</td>\n",
       "      <td>-0.938692</td>\n",
       "      <td>...</td>\n",
       "      <td>-0.760104</td>\n",
       "      <td>-0.118559</td>\n",
       "      <td>0.177899</td>\n",
       "      <td>0.100699</td>\n",
       "      <td>0.808529</td>\n",
       "      <td>-0.848933</td>\n",
       "      <td>0.180637</td>\n",
       "      <td>-0.049118</td>\n",
       "      <td>1</td>\n",
       "      <td>STANDING</td>\n",
       "    </tr>\n",
       "    <tr>\n",
       "      <th>3</th>\n",
       "      <td>0.279174</td>\n",
       "      <td>-0.026201</td>\n",
       "      <td>-0.123283</td>\n",
       "      <td>-0.996091</td>\n",
       "      <td>-0.983403</td>\n",
       "      <td>-0.990675</td>\n",
       "      <td>-0.997099</td>\n",
       "      <td>-0.982750</td>\n",
       "      <td>-0.989302</td>\n",
       "      <td>-0.938692</td>\n",
       "      <td>...</td>\n",
       "      <td>-0.482845</td>\n",
       "      <td>-0.036788</td>\n",
       "      <td>-0.012892</td>\n",
       "      <td>0.640011</td>\n",
       "      <td>-0.485366</td>\n",
       "      <td>-0.848649</td>\n",
       "      <td>0.181935</td>\n",
       "      <td>-0.047663</td>\n",
       "      <td>1</td>\n",
       "      <td>STANDING</td>\n",
       "    </tr>\n",
       "    <tr>\n",
       "      <th>4</th>\n",
       "      <td>0.276629</td>\n",
       "      <td>-0.016570</td>\n",
       "      <td>-0.115362</td>\n",
       "      <td>-0.998139</td>\n",
       "      <td>-0.980817</td>\n",
       "      <td>-0.990482</td>\n",
       "      <td>-0.998321</td>\n",
       "      <td>-0.979672</td>\n",
       "      <td>-0.990441</td>\n",
       "      <td>-0.942469</td>\n",
       "      <td>...</td>\n",
       "      <td>-0.699205</td>\n",
       "      <td>0.123320</td>\n",
       "      <td>0.122542</td>\n",
       "      <td>0.693578</td>\n",
       "      <td>-0.615971</td>\n",
       "      <td>-0.847865</td>\n",
       "      <td>0.185151</td>\n",
       "      <td>-0.043892</td>\n",
       "      <td>1</td>\n",
       "      <td>STANDING</td>\n",
       "    </tr>\n",
       "  </tbody>\n",
       "</table>\n",
       "<p>5 rows × 563 columns</p>\n",
       "</div>"
      ],
      "text/plain": [
       "   tBodyAcc-mean()-X  tBodyAcc-mean()-Y  tBodyAcc-mean()-Z  tBodyAcc-std()-X  \\\n",
       "0           0.288585          -0.020294          -0.132905         -0.995279   \n",
       "1           0.278419          -0.016411          -0.123520         -0.998245   \n",
       "2           0.279653          -0.019467          -0.113462         -0.995380   \n",
       "3           0.279174          -0.026201          -0.123283         -0.996091   \n",
       "4           0.276629          -0.016570          -0.115362         -0.998139   \n",
       "\n",
       "   tBodyAcc-std()-Y  tBodyAcc-std()-Z  tBodyAcc-mad()-X  tBodyAcc-mad()-Y  \\\n",
       "0         -0.983111         -0.913526         -0.995112         -0.983185   \n",
       "1         -0.975300         -0.960322         -0.998807         -0.974914   \n",
       "2         -0.967187         -0.978944         -0.996520         -0.963668   \n",
       "3         -0.983403         -0.990675         -0.997099         -0.982750   \n",
       "4         -0.980817         -0.990482         -0.998321         -0.979672   \n",
       "\n",
       "   tBodyAcc-mad()-Z  tBodyAcc-max()-X    ...     \\\n",
       "0         -0.923527         -0.934724    ...      \n",
       "1         -0.957686         -0.943068    ...      \n",
       "2         -0.977469         -0.938692    ...      \n",
       "3         -0.989302         -0.938692    ...      \n",
       "4         -0.990441         -0.942469    ...      \n",
       "\n",
       "   fBodyBodyGyroJerkMag-kurtosis()  angle(tBodyAccMean,gravity)  \\\n",
       "0                        -0.710304                    -0.112754   \n",
       "1                        -0.861499                     0.053477   \n",
       "2                        -0.760104                    -0.118559   \n",
       "3                        -0.482845                    -0.036788   \n",
       "4                        -0.699205                     0.123320   \n",
       "\n",
       "   angle(tBodyAccJerkMean),gravityMean)  angle(tBodyGyroMean,gravityMean)  \\\n",
       "0                              0.030400                         -0.464761   \n",
       "1                             -0.007435                         -0.732626   \n",
       "2                              0.177899                          0.100699   \n",
       "3                             -0.012892                          0.640011   \n",
       "4                              0.122542                          0.693578   \n",
       "\n",
       "   angle(tBodyGyroJerkMean,gravityMean)  angle(X,gravityMean)  \\\n",
       "0                             -0.018446             -0.841247   \n",
       "1                              0.703511             -0.844788   \n",
       "2                              0.808529             -0.848933   \n",
       "3                             -0.485366             -0.848649   \n",
       "4                             -0.615971             -0.847865   \n",
       "\n",
       "   angle(Y,gravityMean)  angle(Z,gravityMean)  subject  Activity  \n",
       "0              0.179941             -0.058627        1  STANDING  \n",
       "1              0.180289             -0.054317        1  STANDING  \n",
       "2              0.180637             -0.049118        1  STANDING  \n",
       "3              0.181935             -0.047663        1  STANDING  \n",
       "4              0.185151             -0.043892        1  STANDING  \n",
       "\n",
       "[5 rows x 563 columns]"
      ]
     },
     "execution_count": 7,
     "metadata": {},
     "output_type": "execute_result"
    }
   ],
   "source": [
    "train.head()"
   ]
  },
  {
   "cell_type": "code",
   "execution_count": 135,
   "metadata": {
    "collapsed": false
   },
   "outputs": [
    {
     "data": {
      "text/plain": [
       "['tBodyAcc-mean()-X',\n",
       " 'tBodyAcc-mean()-Y',\n",
       " 'tBodyAcc-mean()-Z',\n",
       " 'tBodyAcc-std()-X',\n",
       " 'tBodyAcc-std()-Y',\n",
       " 'tBodyAcc-std()-Z',\n",
       " 'tBodyAcc-mad()-X',\n",
       " 'tBodyAcc-mad()-Y',\n",
       " 'tBodyAcc-mad()-Z',\n",
       " 'tBodyAcc-max()-X',\n",
       " 'tBodyAcc-max()-Y',\n",
       " 'tBodyAcc-max()-Z',\n",
       " 'tBodyAcc-min()-X',\n",
       " 'tBodyAcc-min()-Y',\n",
       " 'tBodyAcc-min()-Z',\n",
       " 'tBodyAcc-sma()',\n",
       " 'tBodyAcc-energy()-X',\n",
       " 'tBodyAcc-energy()-Y',\n",
       " 'tBodyAcc-energy()-Z',\n",
       " 'tBodyAcc-iqr()-X',\n",
       " 'tBodyAcc-iqr()-Y',\n",
       " 'tBodyAcc-iqr()-Z',\n",
       " 'tBodyAcc-entropy()-X',\n",
       " 'tBodyAcc-entropy()-Y',\n",
       " 'tBodyAcc-entropy()-Z',\n",
       " 'tBodyAcc-arCoeff()-X,1',\n",
       " 'tBodyAcc-arCoeff()-X,2',\n",
       " 'tBodyAcc-arCoeff()-X,3',\n",
       " 'tBodyAcc-arCoeff()-X,4',\n",
       " 'tBodyAcc-arCoeff()-Y,1',\n",
       " 'tBodyAcc-arCoeff()-Y,2',\n",
       " 'tBodyAcc-arCoeff()-Y,3',\n",
       " 'tBodyAcc-arCoeff()-Y,4',\n",
       " 'tBodyAcc-arCoeff()-Z,1',\n",
       " 'tBodyAcc-arCoeff()-Z,2',\n",
       " 'tBodyAcc-arCoeff()-Z,3',\n",
       " 'tBodyAcc-arCoeff()-Z,4',\n",
       " 'tBodyAcc-correlation()-X,Y',\n",
       " 'tBodyAcc-correlation()-X,Z',\n",
       " 'tBodyAcc-correlation()-Y,Z',\n",
       " 'tGravityAcc-mean()-X',\n",
       " 'tGravityAcc-mean()-Y',\n",
       " 'tGravityAcc-mean()-Z',\n",
       " 'tGravityAcc-std()-X',\n",
       " 'tGravityAcc-std()-Y',\n",
       " 'tGravityAcc-std()-Z',\n",
       " 'tGravityAcc-mad()-X',\n",
       " 'tGravityAcc-mad()-Y',\n",
       " 'tGravityAcc-mad()-Z',\n",
       " 'tGravityAcc-max()-X',\n",
       " 'tGravityAcc-max()-Y',\n",
       " 'tGravityAcc-max()-Z',\n",
       " 'tGravityAcc-min()-X',\n",
       " 'tGravityAcc-min()-Y',\n",
       " 'tGravityAcc-min()-Z',\n",
       " 'tGravityAcc-sma()',\n",
       " 'tGravityAcc-energy()-X',\n",
       " 'tGravityAcc-energy()-Y',\n",
       " 'tGravityAcc-energy()-Z',\n",
       " 'tGravityAcc-iqr()-X',\n",
       " 'tGravityAcc-iqr()-Y',\n",
       " 'tGravityAcc-iqr()-Z',\n",
       " 'tGravityAcc-entropy()-X',\n",
       " 'tGravityAcc-entropy()-Y',\n",
       " 'tGravityAcc-entropy()-Z',\n",
       " 'tGravityAcc-arCoeff()-X,1',\n",
       " 'tGravityAcc-arCoeff()-X,2',\n",
       " 'tGravityAcc-arCoeff()-X,3',\n",
       " 'tGravityAcc-arCoeff()-X,4',\n",
       " 'tGravityAcc-arCoeff()-Y,1',\n",
       " 'tGravityAcc-arCoeff()-Y,2',\n",
       " 'tGravityAcc-arCoeff()-Y,3',\n",
       " 'tGravityAcc-arCoeff()-Y,4',\n",
       " 'tGravityAcc-arCoeff()-Z,1',\n",
       " 'tGravityAcc-arCoeff()-Z,2',\n",
       " 'tGravityAcc-arCoeff()-Z,3',\n",
       " 'tGravityAcc-arCoeff()-Z,4',\n",
       " 'tGravityAcc-correlation()-X,Y',\n",
       " 'tGravityAcc-correlation()-X,Z',\n",
       " 'tGravityAcc-correlation()-Y,Z',\n",
       " 'tBodyAccJerk-mean()-X',\n",
       " 'tBodyAccJerk-mean()-Y',\n",
       " 'tBodyAccJerk-mean()-Z',\n",
       " 'tBodyAccJerk-std()-X',\n",
       " 'tBodyAccJerk-std()-Y',\n",
       " 'tBodyAccJerk-std()-Z',\n",
       " 'tBodyAccJerk-mad()-X',\n",
       " 'tBodyAccJerk-mad()-Y',\n",
       " 'tBodyAccJerk-mad()-Z',\n",
       " 'tBodyAccJerk-max()-X',\n",
       " 'tBodyAccJerk-max()-Y',\n",
       " 'tBodyAccJerk-max()-Z',\n",
       " 'tBodyAccJerk-min()-X',\n",
       " 'tBodyAccJerk-min()-Y',\n",
       " 'tBodyAccJerk-min()-Z',\n",
       " 'tBodyAccJerk-sma()',\n",
       " 'tBodyAccJerk-energy()-X',\n",
       " 'tBodyAccJerk-energy()-Y',\n",
       " 'tBodyAccJerk-energy()-Z',\n",
       " 'tBodyAccJerk-iqr()-X',\n",
       " 'tBodyAccJerk-iqr()-Y',\n",
       " 'tBodyAccJerk-iqr()-Z',\n",
       " 'tBodyAccJerk-entropy()-X',\n",
       " 'tBodyAccJerk-entropy()-Y',\n",
       " 'tBodyAccJerk-entropy()-Z',\n",
       " 'tBodyAccJerk-arCoeff()-X,1',\n",
       " 'tBodyAccJerk-arCoeff()-X,2',\n",
       " 'tBodyAccJerk-arCoeff()-X,3',\n",
       " 'tBodyAccJerk-arCoeff()-X,4',\n",
       " 'tBodyAccJerk-arCoeff()-Y,1',\n",
       " 'tBodyAccJerk-arCoeff()-Y,2',\n",
       " 'tBodyAccJerk-arCoeff()-Y,3',\n",
       " 'tBodyAccJerk-arCoeff()-Y,4',\n",
       " 'tBodyAccJerk-arCoeff()-Z,1',\n",
       " 'tBodyAccJerk-arCoeff()-Z,2',\n",
       " 'tBodyAccJerk-arCoeff()-Z,3',\n",
       " 'tBodyAccJerk-arCoeff()-Z,4',\n",
       " 'tBodyAccJerk-correlation()-X,Y',\n",
       " 'tBodyAccJerk-correlation()-X,Z',\n",
       " 'tBodyAccJerk-correlation()-Y,Z',\n",
       " 'tBodyGyro-mean()-X',\n",
       " 'tBodyGyro-mean()-Y',\n",
       " 'tBodyGyro-mean()-Z',\n",
       " 'tBodyGyro-std()-X',\n",
       " 'tBodyGyro-std()-Y',\n",
       " 'tBodyGyro-std()-Z',\n",
       " 'tBodyGyro-mad()-X',\n",
       " 'tBodyGyro-mad()-Y',\n",
       " 'tBodyGyro-mad()-Z',\n",
       " 'tBodyGyro-max()-X',\n",
       " 'tBodyGyro-max()-Y',\n",
       " 'tBodyGyro-max()-Z',\n",
       " 'tBodyGyro-min()-X',\n",
       " 'tBodyGyro-min()-Y',\n",
       " 'tBodyGyro-min()-Z',\n",
       " 'tBodyGyro-sma()',\n",
       " 'tBodyGyro-energy()-X',\n",
       " 'tBodyGyro-energy()-Y',\n",
       " 'tBodyGyro-energy()-Z',\n",
       " 'tBodyGyro-iqr()-X',\n",
       " 'tBodyGyro-iqr()-Y',\n",
       " 'tBodyGyro-iqr()-Z',\n",
       " 'tBodyGyro-entropy()-X',\n",
       " 'tBodyGyro-entropy()-Y',\n",
       " 'tBodyGyro-entropy()-Z',\n",
       " 'tBodyGyro-arCoeff()-X,1',\n",
       " 'tBodyGyro-arCoeff()-X,2',\n",
       " 'tBodyGyro-arCoeff()-X,3',\n",
       " 'tBodyGyro-arCoeff()-X,4',\n",
       " 'tBodyGyro-arCoeff()-Y,1',\n",
       " 'tBodyGyro-arCoeff()-Y,2',\n",
       " 'tBodyGyro-arCoeff()-Y,3',\n",
       " 'tBodyGyro-arCoeff()-Y,4',\n",
       " 'tBodyGyro-arCoeff()-Z,1',\n",
       " 'tBodyGyro-arCoeff()-Z,2',\n",
       " 'tBodyGyro-arCoeff()-Z,3',\n",
       " 'tBodyGyro-arCoeff()-Z,4',\n",
       " 'tBodyGyro-correlation()-X,Y',\n",
       " 'tBodyGyro-correlation()-X,Z',\n",
       " 'tBodyGyro-correlation()-Y,Z',\n",
       " 'tBodyGyroJerk-mean()-X',\n",
       " 'tBodyGyroJerk-mean()-Y',\n",
       " 'tBodyGyroJerk-mean()-Z',\n",
       " 'tBodyGyroJerk-std()-X',\n",
       " 'tBodyGyroJerk-std()-Y',\n",
       " 'tBodyGyroJerk-std()-Z',\n",
       " 'tBodyGyroJerk-mad()-X',\n",
       " 'tBodyGyroJerk-mad()-Y',\n",
       " 'tBodyGyroJerk-mad()-Z',\n",
       " 'tBodyGyroJerk-max()-X',\n",
       " 'tBodyGyroJerk-max()-Y',\n",
       " 'tBodyGyroJerk-max()-Z',\n",
       " 'tBodyGyroJerk-min()-X',\n",
       " 'tBodyGyroJerk-min()-Y',\n",
       " 'tBodyGyroJerk-min()-Z',\n",
       " 'tBodyGyroJerk-sma()',\n",
       " 'tBodyGyroJerk-energy()-X',\n",
       " 'tBodyGyroJerk-energy()-Y',\n",
       " 'tBodyGyroJerk-energy()-Z',\n",
       " 'tBodyGyroJerk-iqr()-X',\n",
       " 'tBodyGyroJerk-iqr()-Y',\n",
       " 'tBodyGyroJerk-iqr()-Z',\n",
       " 'tBodyGyroJerk-entropy()-X',\n",
       " 'tBodyGyroJerk-entropy()-Y',\n",
       " 'tBodyGyroJerk-entropy()-Z',\n",
       " 'tBodyGyroJerk-arCoeff()-X,1',\n",
       " 'tBodyGyroJerk-arCoeff()-X,2',\n",
       " 'tBodyGyroJerk-arCoeff()-X,3',\n",
       " 'tBodyGyroJerk-arCoeff()-X,4',\n",
       " 'tBodyGyroJerk-arCoeff()-Y,1',\n",
       " 'tBodyGyroJerk-arCoeff()-Y,2',\n",
       " 'tBodyGyroJerk-arCoeff()-Y,3',\n",
       " 'tBodyGyroJerk-arCoeff()-Y,4',\n",
       " 'tBodyGyroJerk-arCoeff()-Z,1',\n",
       " 'tBodyGyroJerk-arCoeff()-Z,2',\n",
       " 'tBodyGyroJerk-arCoeff()-Z,3',\n",
       " 'tBodyGyroJerk-arCoeff()-Z,4',\n",
       " 'tBodyGyroJerk-correlation()-X,Y',\n",
       " 'tBodyGyroJerk-correlation()-X,Z',\n",
       " 'tBodyGyroJerk-correlation()-Y,Z',\n",
       " 'tBodyAccMag-mean()',\n",
       " 'tBodyAccMag-std()',\n",
       " 'tBodyAccMag-mad()',\n",
       " 'tBodyAccMag-max()',\n",
       " 'tBodyAccMag-min()',\n",
       " 'tBodyAccMag-sma()',\n",
       " 'tBodyAccMag-energy()',\n",
       " 'tBodyAccMag-iqr()',\n",
       " 'tBodyAccMag-entropy()',\n",
       " 'tBodyAccMag-arCoeff()1',\n",
       " 'tBodyAccMag-arCoeff()2',\n",
       " 'tBodyAccMag-arCoeff()3',\n",
       " 'tBodyAccMag-arCoeff()4',\n",
       " 'tGravityAccMag-mean()',\n",
       " 'tGravityAccMag-std()',\n",
       " 'tGravityAccMag-mad()',\n",
       " 'tGravityAccMag-max()',\n",
       " 'tGravityAccMag-min()',\n",
       " 'tGravityAccMag-sma()',\n",
       " 'tGravityAccMag-energy()',\n",
       " 'tGravityAccMag-iqr()',\n",
       " 'tGravityAccMag-entropy()',\n",
       " 'tGravityAccMag-arCoeff()1',\n",
       " 'tGravityAccMag-arCoeff()2',\n",
       " 'tGravityAccMag-arCoeff()3',\n",
       " 'tGravityAccMag-arCoeff()4',\n",
       " 'tBodyAccJerkMag-mean()',\n",
       " 'tBodyAccJerkMag-std()',\n",
       " 'tBodyAccJerkMag-mad()',\n",
       " 'tBodyAccJerkMag-max()',\n",
       " 'tBodyAccJerkMag-min()',\n",
       " 'tBodyAccJerkMag-sma()',\n",
       " 'tBodyAccJerkMag-energy()',\n",
       " 'tBodyAccJerkMag-iqr()',\n",
       " 'tBodyAccJerkMag-entropy()',\n",
       " 'tBodyAccJerkMag-arCoeff()1',\n",
       " 'tBodyAccJerkMag-arCoeff()2',\n",
       " 'tBodyAccJerkMag-arCoeff()3',\n",
       " 'tBodyAccJerkMag-arCoeff()4',\n",
       " 'tBodyGyroMag-mean()',\n",
       " 'tBodyGyroMag-std()',\n",
       " 'tBodyGyroMag-mad()',\n",
       " 'tBodyGyroMag-max()',\n",
       " 'tBodyGyroMag-min()',\n",
       " 'tBodyGyroMag-sma()',\n",
       " 'tBodyGyroMag-energy()',\n",
       " 'tBodyGyroMag-iqr()',\n",
       " 'tBodyGyroMag-entropy()',\n",
       " 'tBodyGyroMag-arCoeff()1',\n",
       " 'tBodyGyroMag-arCoeff()2',\n",
       " 'tBodyGyroMag-arCoeff()3',\n",
       " 'tBodyGyroMag-arCoeff()4',\n",
       " 'tBodyGyroJerkMag-mean()',\n",
       " 'tBodyGyroJerkMag-std()',\n",
       " 'tBodyGyroJerkMag-mad()',\n",
       " 'tBodyGyroJerkMag-max()',\n",
       " 'tBodyGyroJerkMag-min()',\n",
       " 'tBodyGyroJerkMag-sma()',\n",
       " 'tBodyGyroJerkMag-energy()',\n",
       " 'tBodyGyroJerkMag-iqr()',\n",
       " 'tBodyGyroJerkMag-entropy()',\n",
       " 'tBodyGyroJerkMag-arCoeff()1',\n",
       " 'tBodyGyroJerkMag-arCoeff()2',\n",
       " 'tBodyGyroJerkMag-arCoeff()3',\n",
       " 'tBodyGyroJerkMag-arCoeff()4',\n",
       " 'fBodyAcc-mean()-X',\n",
       " 'fBodyAcc-mean()-Y',\n",
       " 'fBodyAcc-mean()-Z',\n",
       " 'fBodyAcc-std()-X',\n",
       " 'fBodyAcc-std()-Y',\n",
       " 'fBodyAcc-std()-Z',\n",
       " 'fBodyAcc-mad()-X',\n",
       " 'fBodyAcc-mad()-Y',\n",
       " 'fBodyAcc-mad()-Z',\n",
       " 'fBodyAcc-max()-X',\n",
       " 'fBodyAcc-max()-Y',\n",
       " 'fBodyAcc-max()-Z',\n",
       " 'fBodyAcc-min()-X',\n",
       " 'fBodyAcc-min()-Y',\n",
       " 'fBodyAcc-min()-Z',\n",
       " 'fBodyAcc-sma()',\n",
       " 'fBodyAcc-energy()-X',\n",
       " 'fBodyAcc-energy()-Y',\n",
       " 'fBodyAcc-energy()-Z',\n",
       " 'fBodyAcc-iqr()-X',\n",
       " 'fBodyAcc-iqr()-Y',\n",
       " 'fBodyAcc-iqr()-Z',\n",
       " 'fBodyAcc-entropy()-X',\n",
       " 'fBodyAcc-entropy()-Y',\n",
       " 'fBodyAcc-entropy()-Z',\n",
       " 'fBodyAcc-maxInds-X',\n",
       " 'fBodyAcc-maxInds-Y',\n",
       " 'fBodyAcc-maxInds-Z',\n",
       " 'fBodyAcc-meanFreq()-X',\n",
       " 'fBodyAcc-meanFreq()-Y',\n",
       " 'fBodyAcc-meanFreq()-Z',\n",
       " 'fBodyAcc-skewness()-X',\n",
       " 'fBodyAcc-kurtosis()-X',\n",
       " 'fBodyAcc-skewness()-Y',\n",
       " 'fBodyAcc-kurtosis()-Y',\n",
       " 'fBodyAcc-skewness()-Z',\n",
       " 'fBodyAcc-kurtosis()-Z',\n",
       " 'fBodyAcc-bandsEnergy()-1,8',\n",
       " 'fBodyAcc-bandsEnergy()-9,16',\n",
       " 'fBodyAcc-bandsEnergy()-17,24',\n",
       " 'fBodyAcc-bandsEnergy()-25,32',\n",
       " 'fBodyAcc-bandsEnergy()-33,40',\n",
       " 'fBodyAcc-bandsEnergy()-41,48',\n",
       " 'fBodyAcc-bandsEnergy()-49,56',\n",
       " 'fBodyAcc-bandsEnergy()-57,64',\n",
       " 'fBodyAcc-bandsEnergy()-1,16',\n",
       " 'fBodyAcc-bandsEnergy()-17,32',\n",
       " 'fBodyAcc-bandsEnergy()-33,48',\n",
       " 'fBodyAcc-bandsEnergy()-49,64',\n",
       " 'fBodyAcc-bandsEnergy()-1,24',\n",
       " 'fBodyAcc-bandsEnergy()-25,48',\n",
       " 'fBodyAcc-bandsEnergy()-1,8.1',\n",
       " 'fBodyAcc-bandsEnergy()-9,16.1',\n",
       " 'fBodyAcc-bandsEnergy()-17,24.1',\n",
       " 'fBodyAcc-bandsEnergy()-25,32.1',\n",
       " 'fBodyAcc-bandsEnergy()-33,40.1',\n",
       " 'fBodyAcc-bandsEnergy()-41,48.1',\n",
       " 'fBodyAcc-bandsEnergy()-49,56.1',\n",
       " 'fBodyAcc-bandsEnergy()-57,64.1',\n",
       " 'fBodyAcc-bandsEnergy()-1,16.1',\n",
       " 'fBodyAcc-bandsEnergy()-17,32.1',\n",
       " 'fBodyAcc-bandsEnergy()-33,48.1',\n",
       " 'fBodyAcc-bandsEnergy()-49,64.1',\n",
       " 'fBodyAcc-bandsEnergy()-1,24.1',\n",
       " 'fBodyAcc-bandsEnergy()-25,48.1',\n",
       " 'fBodyAcc-bandsEnergy()-1,8.2',\n",
       " 'fBodyAcc-bandsEnergy()-9,16.2',\n",
       " 'fBodyAcc-bandsEnergy()-17,24.2',\n",
       " 'fBodyAcc-bandsEnergy()-25,32.2',\n",
       " 'fBodyAcc-bandsEnergy()-33,40.2',\n",
       " 'fBodyAcc-bandsEnergy()-41,48.2',\n",
       " 'fBodyAcc-bandsEnergy()-49,56.2',\n",
       " 'fBodyAcc-bandsEnergy()-57,64.2',\n",
       " 'fBodyAcc-bandsEnergy()-1,16.2',\n",
       " 'fBodyAcc-bandsEnergy()-17,32.2',\n",
       " 'fBodyAcc-bandsEnergy()-33,48.2',\n",
       " 'fBodyAcc-bandsEnergy()-49,64.2',\n",
       " 'fBodyAcc-bandsEnergy()-1,24.2',\n",
       " 'fBodyAcc-bandsEnergy()-25,48.2',\n",
       " 'fBodyAccJerk-mean()-X',\n",
       " 'fBodyAccJerk-mean()-Y',\n",
       " 'fBodyAccJerk-mean()-Z',\n",
       " 'fBodyAccJerk-std()-X',\n",
       " 'fBodyAccJerk-std()-Y',\n",
       " 'fBodyAccJerk-std()-Z',\n",
       " 'fBodyAccJerk-mad()-X',\n",
       " 'fBodyAccJerk-mad()-Y',\n",
       " 'fBodyAccJerk-mad()-Z',\n",
       " 'fBodyAccJerk-max()-X',\n",
       " 'fBodyAccJerk-max()-Y',\n",
       " 'fBodyAccJerk-max()-Z',\n",
       " 'fBodyAccJerk-min()-X',\n",
       " 'fBodyAccJerk-min()-Y',\n",
       " 'fBodyAccJerk-min()-Z',\n",
       " 'fBodyAccJerk-sma()',\n",
       " 'fBodyAccJerk-energy()-X',\n",
       " 'fBodyAccJerk-energy()-Y',\n",
       " 'fBodyAccJerk-energy()-Z',\n",
       " 'fBodyAccJerk-iqr()-X',\n",
       " 'fBodyAccJerk-iqr()-Y',\n",
       " 'fBodyAccJerk-iqr()-Z',\n",
       " 'fBodyAccJerk-entropy()-X',\n",
       " 'fBodyAccJerk-entropy()-Y',\n",
       " 'fBodyAccJerk-entropy()-Z',\n",
       " 'fBodyAccJerk-maxInds-X',\n",
       " 'fBodyAccJerk-maxInds-Y',\n",
       " 'fBodyAccJerk-maxInds-Z',\n",
       " 'fBodyAccJerk-meanFreq()-X',\n",
       " 'fBodyAccJerk-meanFreq()-Y',\n",
       " 'fBodyAccJerk-meanFreq()-Z',\n",
       " 'fBodyAccJerk-skewness()-X',\n",
       " 'fBodyAccJerk-kurtosis()-X',\n",
       " 'fBodyAccJerk-skewness()-Y',\n",
       " 'fBodyAccJerk-kurtosis()-Y',\n",
       " 'fBodyAccJerk-skewness()-Z',\n",
       " 'fBodyAccJerk-kurtosis()-Z',\n",
       " 'fBodyAccJerk-bandsEnergy()-1,8',\n",
       " 'fBodyAccJerk-bandsEnergy()-9,16',\n",
       " 'fBodyAccJerk-bandsEnergy()-17,24',\n",
       " 'fBodyAccJerk-bandsEnergy()-25,32',\n",
       " 'fBodyAccJerk-bandsEnergy()-33,40',\n",
       " 'fBodyAccJerk-bandsEnergy()-41,48',\n",
       " 'fBodyAccJerk-bandsEnergy()-49,56',\n",
       " 'fBodyAccJerk-bandsEnergy()-57,64',\n",
       " 'fBodyAccJerk-bandsEnergy()-1,16',\n",
       " 'fBodyAccJerk-bandsEnergy()-17,32',\n",
       " 'fBodyAccJerk-bandsEnergy()-33,48',\n",
       " 'fBodyAccJerk-bandsEnergy()-49,64',\n",
       " 'fBodyAccJerk-bandsEnergy()-1,24',\n",
       " 'fBodyAccJerk-bandsEnergy()-25,48',\n",
       " 'fBodyAccJerk-bandsEnergy()-1,8.1',\n",
       " 'fBodyAccJerk-bandsEnergy()-9,16.1',\n",
       " 'fBodyAccJerk-bandsEnergy()-17,24.1',\n",
       " 'fBodyAccJerk-bandsEnergy()-25,32.1',\n",
       " 'fBodyAccJerk-bandsEnergy()-33,40.1',\n",
       " 'fBodyAccJerk-bandsEnergy()-41,48.1',\n",
       " 'fBodyAccJerk-bandsEnergy()-49,56.1',\n",
       " 'fBodyAccJerk-bandsEnergy()-57,64.1',\n",
       " 'fBodyAccJerk-bandsEnergy()-1,16.1',\n",
       " 'fBodyAccJerk-bandsEnergy()-17,32.1',\n",
       " 'fBodyAccJerk-bandsEnergy()-33,48.1',\n",
       " 'fBodyAccJerk-bandsEnergy()-49,64.1',\n",
       " 'fBodyAccJerk-bandsEnergy()-1,24.1',\n",
       " 'fBodyAccJerk-bandsEnergy()-25,48.1',\n",
       " 'fBodyAccJerk-bandsEnergy()-1,8.2',\n",
       " 'fBodyAccJerk-bandsEnergy()-9,16.2',\n",
       " 'fBodyAccJerk-bandsEnergy()-17,24.2',\n",
       " 'fBodyAccJerk-bandsEnergy()-25,32.2',\n",
       " 'fBodyAccJerk-bandsEnergy()-33,40.2',\n",
       " 'fBodyAccJerk-bandsEnergy()-41,48.2',\n",
       " 'fBodyAccJerk-bandsEnergy()-49,56.2',\n",
       " 'fBodyAccJerk-bandsEnergy()-57,64.2',\n",
       " 'fBodyAccJerk-bandsEnergy()-1,16.2',\n",
       " 'fBodyAccJerk-bandsEnergy()-17,32.2',\n",
       " 'fBodyAccJerk-bandsEnergy()-33,48.2',\n",
       " 'fBodyAccJerk-bandsEnergy()-49,64.2',\n",
       " 'fBodyAccJerk-bandsEnergy()-1,24.2',\n",
       " 'fBodyAccJerk-bandsEnergy()-25,48.2',\n",
       " 'fBodyGyro-mean()-X',\n",
       " 'fBodyGyro-mean()-Y',\n",
       " 'fBodyGyro-mean()-Z',\n",
       " 'fBodyGyro-std()-X',\n",
       " 'fBodyGyro-std()-Y',\n",
       " 'fBodyGyro-std()-Z',\n",
       " 'fBodyGyro-mad()-X',\n",
       " 'fBodyGyro-mad()-Y',\n",
       " 'fBodyGyro-mad()-Z',\n",
       " 'fBodyGyro-max()-X',\n",
       " 'fBodyGyro-max()-Y',\n",
       " 'fBodyGyro-max()-Z',\n",
       " 'fBodyGyro-min()-X',\n",
       " 'fBodyGyro-min()-Y',\n",
       " 'fBodyGyro-min()-Z',\n",
       " 'fBodyGyro-sma()',\n",
       " 'fBodyGyro-energy()-X',\n",
       " 'fBodyGyro-energy()-Y',\n",
       " 'fBodyGyro-energy()-Z',\n",
       " 'fBodyGyro-iqr()-X',\n",
       " 'fBodyGyro-iqr()-Y',\n",
       " 'fBodyGyro-iqr()-Z',\n",
       " 'fBodyGyro-entropy()-X',\n",
       " 'fBodyGyro-entropy()-Y',\n",
       " 'fBodyGyro-entropy()-Z',\n",
       " 'fBodyGyro-maxInds-X',\n",
       " 'fBodyGyro-maxInds-Y',\n",
       " 'fBodyGyro-maxInds-Z',\n",
       " 'fBodyGyro-meanFreq()-X',\n",
       " 'fBodyGyro-meanFreq()-Y',\n",
       " 'fBodyGyro-meanFreq()-Z',\n",
       " 'fBodyGyro-skewness()-X',\n",
       " 'fBodyGyro-kurtosis()-X',\n",
       " 'fBodyGyro-skewness()-Y',\n",
       " 'fBodyGyro-kurtosis()-Y',\n",
       " 'fBodyGyro-skewness()-Z',\n",
       " 'fBodyGyro-kurtosis()-Z',\n",
       " 'fBodyGyro-bandsEnergy()-1,8',\n",
       " 'fBodyGyro-bandsEnergy()-9,16',\n",
       " 'fBodyGyro-bandsEnergy()-17,24',\n",
       " 'fBodyGyro-bandsEnergy()-25,32',\n",
       " 'fBodyGyro-bandsEnergy()-33,40',\n",
       " 'fBodyGyro-bandsEnergy()-41,48',\n",
       " 'fBodyGyro-bandsEnergy()-49,56',\n",
       " 'fBodyGyro-bandsEnergy()-57,64',\n",
       " 'fBodyGyro-bandsEnergy()-1,16',\n",
       " 'fBodyGyro-bandsEnergy()-17,32',\n",
       " 'fBodyGyro-bandsEnergy()-33,48',\n",
       " 'fBodyGyro-bandsEnergy()-49,64',\n",
       " 'fBodyGyro-bandsEnergy()-1,24',\n",
       " 'fBodyGyro-bandsEnergy()-25,48',\n",
       " 'fBodyGyro-bandsEnergy()-1,8.1',\n",
       " 'fBodyGyro-bandsEnergy()-9,16.1',\n",
       " 'fBodyGyro-bandsEnergy()-17,24.1',\n",
       " 'fBodyGyro-bandsEnergy()-25,32.1',\n",
       " 'fBodyGyro-bandsEnergy()-33,40.1',\n",
       " 'fBodyGyro-bandsEnergy()-41,48.1',\n",
       " 'fBodyGyro-bandsEnergy()-49,56.1',\n",
       " 'fBodyGyro-bandsEnergy()-57,64.1',\n",
       " 'fBodyGyro-bandsEnergy()-1,16.1',\n",
       " 'fBodyGyro-bandsEnergy()-17,32.1',\n",
       " 'fBodyGyro-bandsEnergy()-33,48.1',\n",
       " 'fBodyGyro-bandsEnergy()-49,64.1',\n",
       " 'fBodyGyro-bandsEnergy()-1,24.1',\n",
       " 'fBodyGyro-bandsEnergy()-25,48.1',\n",
       " 'fBodyGyro-bandsEnergy()-1,8.2',\n",
       " 'fBodyGyro-bandsEnergy()-9,16.2',\n",
       " 'fBodyGyro-bandsEnergy()-17,24.2',\n",
       " 'fBodyGyro-bandsEnergy()-25,32.2',\n",
       " 'fBodyGyro-bandsEnergy()-33,40.2',\n",
       " 'fBodyGyro-bandsEnergy()-41,48.2',\n",
       " 'fBodyGyro-bandsEnergy()-49,56.2',\n",
       " 'fBodyGyro-bandsEnergy()-57,64.2',\n",
       " 'fBodyGyro-bandsEnergy()-1,16.2',\n",
       " 'fBodyGyro-bandsEnergy()-17,32.2',\n",
       " 'fBodyGyro-bandsEnergy()-33,48.2',\n",
       " 'fBodyGyro-bandsEnergy()-49,64.2',\n",
       " 'fBodyGyro-bandsEnergy()-1,24.2',\n",
       " 'fBodyGyro-bandsEnergy()-25,48.2',\n",
       " 'fBodyAccMag-mean()',\n",
       " 'fBodyAccMag-std()',\n",
       " 'fBodyAccMag-mad()',\n",
       " 'fBodyAccMag-max()',\n",
       " 'fBodyAccMag-min()',\n",
       " 'fBodyAccMag-sma()',\n",
       " 'fBodyAccMag-energy()',\n",
       " 'fBodyAccMag-iqr()',\n",
       " 'fBodyAccMag-entropy()',\n",
       " 'fBodyAccMag-maxInds',\n",
       " 'fBodyAccMag-meanFreq()',\n",
       " 'fBodyAccMag-skewness()',\n",
       " 'fBodyAccMag-kurtosis()',\n",
       " 'fBodyBodyAccJerkMag-mean()',\n",
       " 'fBodyBodyAccJerkMag-std()',\n",
       " 'fBodyBodyAccJerkMag-mad()',\n",
       " 'fBodyBodyAccJerkMag-max()',\n",
       " 'fBodyBodyAccJerkMag-min()',\n",
       " 'fBodyBodyAccJerkMag-sma()',\n",
       " 'fBodyBodyAccJerkMag-energy()',\n",
       " 'fBodyBodyAccJerkMag-iqr()',\n",
       " 'fBodyBodyAccJerkMag-entropy()',\n",
       " 'fBodyBodyAccJerkMag-maxInds',\n",
       " 'fBodyBodyAccJerkMag-meanFreq()',\n",
       " 'fBodyBodyAccJerkMag-skewness()',\n",
       " 'fBodyBodyAccJerkMag-kurtosis()',\n",
       " 'fBodyBodyGyroMag-mean()',\n",
       " 'fBodyBodyGyroMag-std()',\n",
       " 'fBodyBodyGyroMag-mad()',\n",
       " 'fBodyBodyGyroMag-max()',\n",
       " 'fBodyBodyGyroMag-min()',\n",
       " 'fBodyBodyGyroMag-sma()',\n",
       " 'fBodyBodyGyroMag-energy()',\n",
       " 'fBodyBodyGyroMag-iqr()',\n",
       " 'fBodyBodyGyroMag-entropy()',\n",
       " 'fBodyBodyGyroMag-maxInds',\n",
       " 'fBodyBodyGyroMag-meanFreq()',\n",
       " 'fBodyBodyGyroMag-skewness()',\n",
       " 'fBodyBodyGyroMag-kurtosis()',\n",
       " 'fBodyBodyGyroJerkMag-mean()',\n",
       " 'fBodyBodyGyroJerkMag-std()',\n",
       " 'fBodyBodyGyroJerkMag-mad()',\n",
       " 'fBodyBodyGyroJerkMag-max()',\n",
       " 'fBodyBodyGyroJerkMag-min()',\n",
       " 'fBodyBodyGyroJerkMag-sma()',\n",
       " 'fBodyBodyGyroJerkMag-energy()',\n",
       " 'fBodyBodyGyroJerkMag-iqr()',\n",
       " 'fBodyBodyGyroJerkMag-entropy()',\n",
       " 'fBodyBodyGyroJerkMag-maxInds',\n",
       " 'fBodyBodyGyroJerkMag-meanFreq()',\n",
       " 'fBodyBodyGyroJerkMag-skewness()',\n",
       " 'fBodyBodyGyroJerkMag-kurtosis()',\n",
       " 'angle(tBodyAccMean,gravity)',\n",
       " 'angle(tBodyAccJerkMean),gravityMean)',\n",
       " 'angle(tBodyGyroMean,gravityMean)',\n",
       " 'angle(tBodyGyroJerkMean,gravityMean)',\n",
       " 'angle(X,gravityMean)',\n",
       " 'angle(Y,gravityMean)',\n",
       " 'angle(Z,gravityMean)',\n",
       " 'subject',\n",
       " 'Activity']"
      ]
     },
     "execution_count": 135,
     "metadata": {},
     "output_type": "execute_result"
    }
   ],
   "source": [
    "train.columns.tolist()\n"
   ]
  },
  {
   "cell_type": "markdown",
   "metadata": {},
   "source": [
    "Apparently, this dataset has been exploited by thousands of Kagglers and 97% accuracy is as easy as SVM + boosting. What I will do is try to predict for different subjects not activities.\n",
    "\n",
    "However, the train and test set right now contains totally different subjects. What I will do is merge them, and randomly split the whole dataset into new train & test set."
   ]
  },
  {
   "cell_type": "code",
   "execution_count": 150,
   "metadata": {
    "collapsed": false
   },
   "outputs": [],
   "source": [
    "# Merge current train and test\n",
    "train_all = train.append(test)\n",
    "# And split to 70% train, 30% test\n",
    "from sklearn.model_selection import train_test_split\n",
    "train, test = train_test_split(train_all, test_size = 0.3)"
   ]
  },
  {
   "cell_type": "code",
   "execution_count": 151,
   "metadata": {
    "collapsed": false
   },
   "outputs": [],
   "source": [
    "# Split into variables and labels\n",
    "X_train = train.iloc[:, :-2].values\n",
    "y_train = train.iloc[:,-2].values\n",
    "activity_train = train.iloc[:,-1].values\n",
    "\n",
    "X_test = test.iloc[:, :-2].values\n",
    "y_test = test.iloc[:,-2].values\n",
    "activity_test = test.iloc[:,-1].values\n"
   ]
  },
  {
   "cell_type": "code",
   "execution_count": 152,
   "metadata": {
    "collapsed": false
   },
   "outputs": [
    {
     "data": {
      "text/plain": [
       "array([30, 14,  4, ..., 23,  2,  8])"
      ]
     },
     "execution_count": 152,
     "metadata": {},
     "output_type": "execute_result"
    }
   ],
   "source": [
    "y_test"
   ]
  },
  {
   "cell_type": "code",
   "execution_count": 153,
   "metadata": {
    "collapsed": false
   },
   "outputs": [
    {
     "data": {
      "text/plain": [
       "(3090,)"
      ]
     },
     "execution_count": 153,
     "metadata": {},
     "output_type": "execute_result"
    }
   ],
   "source": [
    "y_test.shape"
   ]
  },
  {
   "cell_type": "code",
   "execution_count": 154,
   "metadata": {
    "collapsed": false
   },
   "outputs": [
    {
     "data": {
      "text/plain": [
       "(array([ 1,  2,  3,  4,  5,  6,  7,  8,  9, 10, 11, 12, 13, 14, 15, 16, 17,\n",
       "        18, 19, 20, 21, 22, 23, 24, 25, 26, 27, 28, 29, 30]),\n",
       " array([260, 204, 232, 220, 190, 234, 216, 198, 199, 215, 223, 213, 211,\n",
       "        240, 234, 256, 256, 270, 258, 247, 295, 221, 267, 256, 277, 265,\n",
       "        270, 258, 255, 269]))"
      ]
     },
     "execution_count": 154,
     "metadata": {},
     "output_type": "execute_result"
    }
   ],
   "source": [
    "# Some descriptive analysis\n",
    "label, counts = np.unique(y_train, return_counts=True)\n",
    "label, counts"
   ]
  },
  {
   "cell_type": "code",
   "execution_count": 173,
   "metadata": {
    "collapsed": false
   },
   "outputs": [
    {
     "data": {
      "text/plain": [
       "{1,\n",
       " 2,\n",
       " 3,\n",
       " 4,\n",
       " 5,\n",
       " 6,\n",
       " 7,\n",
       " 8,\n",
       " 9,\n",
       " 10,\n",
       " 11,\n",
       " 12,\n",
       " 13,\n",
       " 14,\n",
       " 15,\n",
       " 16,\n",
       " 17,\n",
       " 18,\n",
       " 19,\n",
       " 20,\n",
       " 21,\n",
       " 22,\n",
       " 23,\n",
       " 24,\n",
       " 25,\n",
       " 26,\n",
       " 27,\n",
       " 28,\n",
       " 29,\n",
       " 30}"
      ]
     },
     "execution_count": 173,
     "metadata": {},
     "output_type": "execute_result"
    }
   ],
   "source": [
    "set(train['subject'])"
   ]
  },
  {
   "cell_type": "code",
   "execution_count": 155,
   "metadata": {
    "collapsed": false
   },
   "outputs": [
    {
     "data": {
      "text/plain": [
       "<matplotlib.axes._subplots.AxesSubplot at 0x10a9e97d0>"
      ]
     },
     "execution_count": 155,
     "metadata": {},
     "output_type": "execute_result"
    },
    {
     "data": {
      "image/png": "[encoded data removed]",
      "text/plain": [
       "<matplotlib.figure.Figure at 0x11d6cf8d0>"
      ]
     },
     "metadata": {},
     "output_type": "display_data"
    }
   ],
   "source": [
    "train['subject'].value_counts().plot(kind='bar')"
   ]
  },
  {
   "cell_type": "code",
   "execution_count": 156,
   "metadata": {
    "collapsed": false
   },
   "outputs": [
    {
     "data": {
      "text/plain": [
       "<matplotlib.axes._subplots.AxesSubplot at 0x11d8fc190>"
      ]
     },
     "execution_count": 156,
     "metadata": {},
     "output_type": "execute_result"
    },
    {
     "data": {
      "image/png": "[encoded data removed]",
      "text/plain": [
       "<matplotlib.figure.Figure at 0x11d6d81d0>"
      ]
     },
     "metadata": {},
     "output_type": "display_data"
    }
   ],
   "source": [
    "test['subject'].value_counts().plot(kind='bar')"
   ]
  },
  {
   "cell_type": "markdown",
   "metadata": {},
   "source": [
    "The bar chart look pretty balanced. It seems that in training set, around 300 to 400 records were recorded for each and for test set 80 ~ 110 records were there for each."
   ]
  },
  {
   "cell_type": "code",
   "execution_count": 157,
   "metadata": {
    "collapsed": false
   },
   "outputs": [
    {
     "data": {
      "text/plain": [
       "<matplotlib.axes._subplots.AxesSubplot at 0x11db121d0>"
      ]
     },
     "execution_count": 157,
     "metadata": {},
     "output_type": "execute_result"
    },
    {
     "data": {
      "image/png": "[encoded data removed]",
      "text/plain": [
       "<matplotlib.figure.Figure at 0x1224d66d0>"
      ]
     },
     "metadata": {},
     "output_type": "display_data"
    }
   ],
   "source": [
    "train['Activity'].value_counts().plot(kind='bar')"
   ]
  },
  {
   "cell_type": "markdown",
   "metadata": {},
   "source": [
    "Although different people may very well sit, stand or lie down differnetly, I assume that the differences become more obvious when we are moving. So I will split the dataset into 2 subgroups, sedentary and moving, corresponds to laying + standing + sitting and walking + walking upstairs + walking downstairs respectively. "
   ]
  },
  {
   "cell_type": "code",
   "execution_count": 158,
   "metadata": {
    "collapsed": false
   },
   "outputs": [
    {
     "data": {
      "text/plain": [
       "array([19, 26,  9, ..., 13, 19,  2])"
      ]
     },
     "execution_count": 158,
     "metadata": {},
     "output_type": "execute_result"
    }
   ],
   "source": [
    "y_train"
   ]
  },
  {
   "cell_type": "code",
   "execution_count": 159,
   "metadata": {
    "collapsed": false
   },
   "outputs": [
    {
     "data": {
      "text/plain": [
       "(7209,)"
      ]
     },
     "execution_count": 159,
     "metadata": {},
     "output_type": "execute_result"
    }
   ],
   "source": [
    "activity_train.shape"
   ]
  },
  {
   "cell_type": "code",
   "execution_count": 160,
   "metadata": {
    "collapsed": false
   },
   "outputs": [],
   "source": [
    "train_sedentary_ind = [i for i, a in enumerate(activity_train) if a == 'LAYING' or a == 'STANDING' or a == 'SITTING']\n",
    "train_moving_ind = [i for i, a in enumerate(activity_train) if a == 'WALKING' or a == 'WALKING_UPSTAIRS' or a == 'WALKING_DOWNSTAIRS']\n",
    "test_sedentary_ind = [i for i, a in enumerate(activity_test) if a == 'LAYING' or a == 'STANDING' or a == 'SITTING']\n",
    "test_moving_ind = [i for i, a in enumerate(activity_test) if a == 'WALKING' or a == 'WALKING_UPSTAIRS' or a == 'WALKING_DOWNSTAIRS']"
   ]
  },
  {
   "cell_type": "code",
   "execution_count": 161,
   "metadata": {
    "collapsed": false
   },
   "outputs": [
    {
     "data": {
      "text/plain": [
       "(3890, 3319)"
      ]
     },
     "execution_count": 161,
     "metadata": {},
     "output_type": "execute_result"
    }
   ],
   "source": [
    "len(train_sedentary_ind), len(train_moving_ind)"
   ]
  },
  {
   "cell_type": "code",
   "execution_count": 162,
   "metadata": {
    "collapsed": false
   },
   "outputs": [
    {
     "data": {
      "text/plain": [
       "(1737, 1353)"
      ]
     },
     "execution_count": 162,
     "metadata": {},
     "output_type": "execute_result"
    }
   ],
   "source": [
    "len(test_sedentary_ind), len(test_moving_ind)"
   ]
  },
  {
   "cell_type": "code",
   "execution_count": 163,
   "metadata": {
    "collapsed": false
   },
   "outputs": [],
   "source": [
    "X_train_sedentary = X_train[train_sedentary_ind, :]\n",
    "X_train_moving = X_train[train_moving_ind, :]\n",
    "\n",
    "X_test_sedentary = X_test[test_sedentary_ind, :]\n",
    "X_test_moving = X_test[test_moving_ind, :]"
   ]
  },
  {
   "cell_type": "code",
   "execution_count": 164,
   "metadata": {
    "collapsed": false
   },
   "outputs": [],
   "source": [
    "y_train_sedentary = y_train[train_sedentary_ind]\n",
    "y_train_moving = y_train[train_moving_ind]\n",
    "\n",
    "y_test_sedentary = y_test[test_sedentary_ind]\n",
    "y_test_moving = y_test[test_moving_ind]"
   ]
  },
  {
   "cell_type": "code",
   "execution_count": 165,
   "metadata": {
    "collapsed": false
   },
   "outputs": [
    {
     "data": {
      "text/plain": [
       "'tBodyAcc-max()-X'"
      ]
     },
     "execution_count": 165,
     "metadata": {},
     "output_type": "execute_result"
    }
   ],
   "source": [
    "train.columns.tolist()[9]"
   ]
  },
  {
   "cell_type": "code",
   "execution_count": 166,
   "metadata": {
    "collapsed": false
   },
   "outputs": [
    {
     "data": {
      "text/plain": [
       "<matplotlib.text.Text at 0x1226e0850>"
      ]
     },
     "execution_count": 166,
     "metadata": {},
     "output_type": "execute_result"
    },
    {
     "data": {
      "image/png": "[encoded data removed]",
      "text/plain": [
       "<matplotlib.figure.Figure at 0x11dc45590>"
      ]
     },
     "metadata": {},
     "output_type": "display_data"
    }
   ],
   "source": [
    "# Plot the max acceleration on the X axis\n",
    "\n",
    "fig = plt.figure(figsize=(20,10)) \n",
    "plt.gca().set_color_cycle(['blue', 'yellow'])\n",
    "plt.plot(X_train_sedentary[:1000, 9])\n",
    "plt.plot(X_train_moving[:1000, 9])\n",
    "\n",
    "blue_patch = mpatches.Patch(color='blue', label='Sedentary')\n",
    "yellow_patch = mpatches.Patch(color='yellow', label='Moving')\n",
    "plt.legend(handles=[blue_patch, yellow_patch])\n",
    "plt.title(\"tBodyACC-max()-X for Moving Records are Significantly Larger than Sedentary Records\")"
   ]
  },
  {
   "cell_type": "markdown",
   "metadata": {},
   "source": [
    "The sensor data for moving and sedentary activities are actually very different as we expected. I will try to build a subject classifier using moving data and sedentary data respectively and see which one performs better. And this will give us an idea about are we more different when we move, or when we don't move.\n",
    "\n",
    "Probably it will also make sense if we get more data of the subjects, their age, gender, weight, height we can try to run regression against these attribtues and find if there is a common trend in how people move and not move with regards to their physical conditions."
   ]
  },
  {
   "cell_type": "markdown",
   "metadata": {},
   "source": [
    "\n",
    "## Moving Data Preprocessing\n",
    "\n",
    "We can see from here that we are facing a very different problem as we were having before. We have way too many features (563) for our model to avoid overfitting and generalize well in the test set. So we need to perform some feature selection/engineering before fed all of them into a model.\n",
    "\n",
    "It also right in our intuitions because the sensors put on the same spot on yor left & right legs may have very similar readings but a delay in time. (if your walking is symmetric enough) It would be redundant to include all of the counterpairs. \n",
    "\n",
    "### Feature Selection \n"
   ]
  },
  {
   "cell_type": "markdown",
   "metadata": {},
   "source": [
    "- LinearSVC"
   ]
  },
  {
   "cell_type": "code",
   "execution_count": 167,
   "metadata": {
    "collapsed": false
   },
   "outputs": [
    {
     "data": {
      "text/plain": [
       "(3319, 123)"
      ]
     },
     "execution_count": 167,
     "metadata": {},
     "output_type": "execute_result"
    }
   ],
   "source": [
    "from sklearn.svm import LinearSVC\n",
    "from sklearn.feature_selection import SelectFromModel\n",
    "\n",
    "lsvc = LinearSVC(C=0.01, penalty=\"l1\", dual=False).fit(X_train_moving, y_train_moving)\n",
    "lsvc = SelectFromModel(lsvc, prefit=True)\n",
    "X_train_moving_new = lsvc.transform(X_train_moving)\n",
    "X_train_moving_new.shape"
   ]
  },
  {
   "cell_type": "markdown",
   "metadata": {},
   "source": [
    "The linearSVC model selected 123 features out of 562, roughly 20% of them."
   ]
  },
  {
   "cell_type": "code",
   "execution_count": 168,
   "metadata": {
    "collapsed": true
   },
   "outputs": [],
   "source": [
    "X_test_moving_new = lsvc.transform(X_test_moving)"
   ]
  },
  {
   "cell_type": "markdown",
   "metadata": {},
   "source": [
    "- Sequential Forward Selection (SFS): experimented, but takes a very long time to select larger amount of features"
   ]
  },
  {
   "cell_type": "code",
   "execution_count": 36,
   "metadata": {
    "collapsed": false
   },
   "outputs": [
    {
     "name": "stderr",
     "output_type": "stream",
     "text": [
      "[Parallel(n_jobs=1)]: Done   1 out of   1 | elapsed:    0.0s remaining:    0.0s\n",
      "[Parallel(n_jobs=1)]: Done 561 out of 561 | elapsed:   20.3s finished\n",
      "\n",
      "[2017-09-21 15:21:34] Features: 1/10 -- score: 0.743199129489[Parallel(n_jobs=1)]: Done   1 out of   1 | elapsed:    0.0s remaining:    0.0s\n",
      "[Parallel(n_jobs=1)]: Done 560 out of 560 | elapsed:   19.3s finished\n",
      "\n",
      "[2017-09-21 15:21:53] Features: 2/10 -- score: 0.894586507073[Parallel(n_jobs=1)]: Done   1 out of   1 | elapsed:    0.1s remaining:    0.0s\n",
      "[Parallel(n_jobs=1)]: Done 559 out of 559 | elapsed:   22.7s finished\n",
      "\n",
      "[2017-09-21 15:22:16] Features: 3/10 -- score: 0.958922742111[Parallel(n_jobs=1)]: Done   1 out of   1 | elapsed:    0.1s remaining:    0.0s\n",
      "\n",
      "STOPPING EARLY DUE TO KEYBOARD INTERRUPT..."
     ]
    }
   ],
   "source": [
    "# SFS \n",
    "from sklearn.neighbors import KNeighborsClassifier\n",
    "from mlxtend.feature_selection import SequentialFeatureSelector as SFS\n",
    "\n",
    "knn = KNeighborsClassifier(n_neighbors=4)\n",
    "sfs = SFS(knn, k_features=10, forward=True, floating=False, verbose=2, scoring='accuracy', cv=0)\n",
    "sfs = sfs.fit(X_train, y_train)"
   ]
  },
  {
   "cell_type": "markdown",
   "metadata": {},
   "source": [
    "## Sedentary Data Preprocessing\n",
    "\n",
    "Let's do the same feature selection for sedentary data."
   ]
  },
  {
   "cell_type": "code",
   "execution_count": 170,
   "metadata": {
    "collapsed": false
   },
   "outputs": [
    {
     "data": {
      "text/plain": [
       "(3890, 170)"
      ]
     },
     "execution_count": 170,
     "metadata": {},
     "output_type": "execute_result"
    }
   ],
   "source": [
    "from sklearn.svm import LinearSVC\n",
    "from sklearn.feature_selection import SelectFromModel\n",
    "\n",
    "lsvc = LinearSVC(C=0.01, penalty=\"l1\", dual=False).fit(X_train_sedentary, y_train_sedentary)\n",
    "lsvc = SelectFromModel(lsvc, prefit=True)\n",
    "X_train_sedentary_new = lsvc.transform(X_train_sedentary)\n",
    "X_train_sedentary_new.shape"
   ]
  },
  {
   "cell_type": "markdown",
   "metadata": {},
   "source": [
    "For sedentary data, our feature selection algorithm has chosen 170 features, roughly 40% more than moving data, which means that sedentary records have less variance and share less correlations."
   ]
  },
  {
   "cell_type": "code",
   "execution_count": 172,
   "metadata": {
    "collapsed": false
   },
   "outputs": [],
   "source": [
    "X_test_sedentary_new = lsvc.transform(X_test_sedentary)"
   ]
  },
  {
   "cell_type": "markdown",
   "metadata": {},
   "source": [
    "### Normalization\n",
    "\n",
    "Our data was already normalized to the range [-1, 1] so that would be all for the preprocessing so far."
   ]
  },
  {
   "cell_type": "markdown",
   "metadata": {},
   "source": [
    "## Modeling - Moving"
   ]
  },
  {
   "cell_type": "markdown",
   "metadata": {},
   "source": [
    "### Baseline - Randomly Guessing\n",
    "\n",
    "This is a baseline because by intuition any other informed classifier outperform this classifier."
   ]
  },
  {
   "cell_type": "code",
   "execution_count": 188,
   "metadata": {
    "collapsed": true
   },
   "outputs": [],
   "source": [
    "from random import randint\n",
    "rand_pred_moving = []\n",
    "for x in X_test_moving_new:\n",
    "    # generate a random number between 1 and 30 (including 1 & 30)\n",
    "    rand_pred_moving.append(randint(1, 31))\n",
    "rand_pred_moving = np.asarray(rand_pred_moving)"
   ]
  },
  {
   "cell_type": "code",
   "execution_count": 209,
   "metadata": {
    "collapsed": false
   },
   "outputs": [
    {
     "data": {
      "text/plain": [
       "0.028085735402808575"
      ]
     },
     "execution_count": 209,
     "metadata": {},
     "output_type": "execute_result"
    }
   ],
   "source": [
    "rand_res = [1 if a == b else 0 for a, b in zip(rand_pred_moving, y_test_moving)]\n",
    "rand_acc = float(sum(rand_res))/len(rand_res)\n",
    "rand_acc"
   ]
  },
  {
   "cell_type": "markdown",
   "metadata": {},
   "source": [
    "So randomly predicting almost failed the job, with only 3% accuracy."
   ]
  },
  {
   "cell_type": "code",
   "execution_count": 234,
   "metadata": {
    "collapsed": true
   },
   "outputs": [],
   "source": [
    "from sklearn import linear_model\n",
    "from sklearn.tree import DecisionTreeClassifier\n",
    "from sklearn.ensemble import RandomForestClassifier,GradientBoostingClassifier\n",
    "from sklearn.naive_bayes import GaussianNB\n",
    "from sklearn import svm\n",
    "\n",
    "Classifiers = [linear_model.LogisticRegression(),\n",
    "               DecisionTreeClassifier(), \n",
    "               RandomForestClassifier(n_estimators=200),\n",
    "               GradientBoostingClassifier(n_estimators=200),\n",
    "               GaussianNB(), \n",
    "               svm.SVC()]"
   ]
  },
  {
   "cell_type": "code",
   "execution_count": 242,
   "metadata": {
    "collapsed": true
   },
   "outputs": [],
   "source": [
    "from sklearn.metrics import accuracy_score\n",
    "from time import time\n",
    "model = []\n",
    "accuracy = []\n",
    "train_time = []\n",
    "pred_time = []\n",
    "\n",
    "for clf in Classifiers:\n",
    "    start = time()\n",
    "    fit=clf.fit(X_train_moving, y_train_moving)\n",
    "    end = time()\n",
    "    train_time.append(end - start)\n",
    "    start = time()\n",
    "    pred=fit.predict(X_test_moving)\n",
    "    end = time()\n",
    "    pred_time.append(end - start)\n",
    "    model.append(clf.__class__.__name__)\n",
    "    accuracy.append(accuracy_score(y_test_moving,pred))\n"
   ]
  },
  {
   "cell_type": "code",
   "execution_count": 243,
   "metadata": {
    "collapsed": false
   },
   "outputs": [
    {
     "data": {
      "text/plain": [
       "['LogisticRegression',\n",
       " 'DecisionTreeClassifier',\n",
       " 'RandomForestClassifier',\n",
       " 'GradientBoostingClassifier',\n",
       " 'GaussianNB',\n",
       " 'SVC']"
      ]
     },
     "execution_count": 243,
     "metadata": {},
     "output_type": "execute_result"
    }
   ],
   "source": [
    "model"
   ]
  },
  {
   "cell_type": "code",
   "execution_count": 244,
   "metadata": {
    "collapsed": false
   },
   "outputs": [],
   "source": [
    "# Give shorter name for plotting \n",
    "model = ['LR', 'DT', 'RF', 'GB', 'GNB', 'SVC']"
   ]
  },
  {
   "cell_type": "code",
   "execution_count": 245,
   "metadata": {
    "collapsed": false
   },
   "outputs": [
    {
     "data": {
      "text/plain": [
       "([<matplotlib.axis.XTick at 0x119edef10>,\n",
       "  <matplotlib.axis.XTick at 0x119edec10>,\n",
       "  <matplotlib.axis.XTick at 0x119f2dc50>,\n",
       "  <matplotlib.axis.XTick at 0x132ea4b10>,\n",
       "  <matplotlib.axis.XTick at 0x132eae250>,\n",
       "  <matplotlib.axis.XTick at 0x132eae950>],\n",
       " <a list of 6 Text xticklabel objects>)"
      ]
     },
     "execution_count": 245,
     "metadata": {},
     "output_type": "execute_result"
    },
    {
     "data": {
      "image/png": "[encoded data removed]",
      "text/plain": [
       "<matplotlib.figure.Figure at 0x10c995350>"
      ]
     },
     "metadata": {},
     "output_type": "display_data"
    }
   ],
   "source": [
    "# Plot the accuracy for each classifier\n",
    "fig = plt.figure()\n",
    "index = np.arange(len(model))\n",
    "plt.bar(index, accuracy)\n",
    "fig.suptitle('Accuracy Comparison for Moving Data', fontsize=18)\n",
    "plt.ylabel('Accuracy', fontsize=16)\n",
    "plt.xticks(index, model)"
   ]
  },
  {
   "cell_type": "code",
   "execution_count": 256,
   "metadata": {
    "collapsed": false
   },
   "outputs": [
    {
     "data": {
      "text/plain": [
       "([<matplotlib.axis.XTick at 0x134872810>,\n",
       "  <matplotlib.axis.XTick at 0x134a75dd0>,\n",
       "  <matplotlib.axis.XTick at 0x134acd5d0>,\n",
       "  <matplotlib.axis.XTick at 0x134af4510>,\n",
       "  <matplotlib.axis.XTick at 0x134af4c10>,\n",
       "  <matplotlib.axis.XTick at 0x134aff350>],\n",
       " <a list of 6 Text xticklabel objects>)"
      ]
     },
     "execution_count": 256,
     "metadata": {},
     "output_type": "execute_result"
    },
    {
     "data": {
      "image/png": "[encoded data removed]",
      "text/plain": [
       "<matplotlib.figure.Figure at 0x134a4a1d0>"
      ]
     },
     "metadata": {},
     "output_type": "display_data"
    }
   ],
   "source": [
    "# Plot the training time for each classifier\n",
    "fig = plt.figure()\n",
    "index = np.arange(len(model))\n",
    "plt.bar(index, train_time)\n",
    "fig.suptitle('Training Time Comparison for Moving Data', fontsize=18)\n",
    "plt.ylabel('Time', fontsize=16)\n",
    "plt.xticks(index, model)"
   ]
  },
  {
   "cell_type": "code",
   "execution_count": 255,
   "metadata": {
    "collapsed": false
   },
   "outputs": [
    {
     "data": {
      "text/plain": [
       "([<matplotlib.axis.XTick at 0x134872e90>,\n",
       "  <matplotlib.axis.XTick at 0x133019ad0>,\n",
       "  <matplotlib.axis.XTick at 0x134a01190>,\n",
       "  <matplotlib.axis.XTick at 0x134a290d0>,\n",
       "  <matplotlib.axis.XTick at 0x134a297d0>,\n",
       "  <matplotlib.axis.XTick at 0x134a29ed0>],\n",
       " <a list of 6 Text xticklabel objects>)"
      ]
     },
     "execution_count": 255,
     "metadata": {},
     "output_type": "execute_result"
    },
    {
     "data": {
      "image/png": "[encoded data removed]",
      "text/plain": [
       "<matplotlib.figure.Figure at 0x13497f7d0>"
      ]
     },
     "metadata": {},
     "output_type": "display_data"
    }
   ],
   "source": [
    "# Plot the prediction time for each classifier\n",
    "fig = plt.figure()\n",
    "index = np.arange(len(model))\n",
    "plt.bar(index, pred_time)\n",
    "fig.suptitle('Prediction Time Comparison for Moving Data', fontsize=18)\n",
    "plt.ylabel('Time', fontsize=16)\n",
    "plt.xticks(index, model)"
   ]
  },
  {
   "cell_type": "markdown",
   "metadata": {},
   "source": [
    "## Conclusions\n",
    "\n"
   ]
  },
  {
   "cell_type": "markdown",
   "metadata": {},
   "source": [
    "And we can see here, with similar performance results, linear regression and random forest are much faster than gradient boosting in training and predicting. Linear regression is also faster than random forest for prediction."
   ]
  },
  {
   "cell_type": "markdown",
   "metadata": {},
   "source": [
    "## Modeling - Sedentary\n",
    "\n",
    "\n",
    "### Baseline - Randomly guessing"
   ]
  },
  {
   "cell_type": "code",
   "execution_count": 178,
   "metadata": {
    "collapsed": false
   },
   "outputs": [],
   "source": [
    "from random import randint\n",
    "rand_pred_sedentary = []\n",
    "for x in X_test_sedentary_new:\n",
    "    # generate a random number between 1 and 30 (including 1 & 30)\n",
    "    rand_pred_sedentary.append(randint(1, 31))\n",
    "rand_pred_sedentary = np.asarray(rand_pred_sedentary)"
   ]
  },
  {
   "cell_type": "code",
   "execution_count": 186,
   "metadata": {
    "collapsed": false
   },
   "outputs": [],
   "source": [
    "res = [1 if a == b else 0 for a, b in zip(rand_pred_sedentary, y_test_sedentary)]"
   ]
  },
  {
   "cell_type": "code",
   "execution_count": 187,
   "metadata": {
    "collapsed": false
   },
   "outputs": [
    {
     "data": {
      "text/plain": [
       "0.02936096718480138"
      ]
     },
     "execution_count": 187,
     "metadata": {},
     "output_type": "execute_result"
    }
   ],
   "source": [
    "acc = float(sum(res))/len(res)\n",
    "acc"
   ]
  },
  {
   "cell_type": "markdown",
   "metadata": {},
   "source": [
    "The result for randomly predicting is also around 3%, similar to moving ones, as expected.\n",
    "\n",
    "Now let's try the same classifiers we tried with moving data."
   ]
  },
  {
   "cell_type": "code",
   "execution_count": 257,
   "metadata": {
    "collapsed": true
   },
   "outputs": [],
   "source": [
    "model = []\n",
    "accuracy = []\n",
    "train_time = []\n",
    "pred_time = []\n",
    "\n",
    "for clf in Classifiers:\n",
    "    start = time()\n",
    "    fit=clf.fit(X_train_sedentary, y_train_sedentary)\n",
    "    end = time()\n",
    "    train_time.append(end - start)\n",
    "    start = time()\n",
    "    pred=fit.predict(X_test_sedentary)\n",
    "    end = time()\n",
    "    pred_time.append(end - start)\n",
    "    model.append(clf.__class__.__name__)\n",
    "    accuracy.append(accuracy_score(y_test_sedentary, pred))"
   ]
  },
  {
   "cell_type": "code",
   "execution_count": 258,
   "metadata": {
    "collapsed": false
   },
   "outputs": [
    {
     "data": {
      "text/plain": [
       "['LogisticRegression',\n",
       " 'DecisionTreeClassifier',\n",
       " 'RandomForestClassifier',\n",
       " 'GradientBoostingClassifier',\n",
       " 'GaussianNB',\n",
       " 'SVC']"
      ]
     },
     "execution_count": 258,
     "metadata": {},
     "output_type": "execute_result"
    }
   ],
   "source": [
    "model"
   ]
  },
  {
   "cell_type": "code",
   "execution_count": 259,
   "metadata": {
    "collapsed": true
   },
   "outputs": [],
   "source": [
    "# Give shorter name for plotting \n",
    "model = ['LR', 'DT', 'RF', 'GB', 'GNB', 'SVC']"
   ]
  },
  {
   "cell_type": "code",
   "execution_count": 266,
   "metadata": {
    "collapsed": false
   },
   "outputs": [
    {
     "data": {
      "text/plain": [
       "([<matplotlib.axis.XTick at 0x132a1fad0>,\n",
       "  <matplotlib.axis.XTick at 0x132f96f10>,\n",
       "  <matplotlib.axis.XTick at 0x136e06510>,\n",
       "  <matplotlib.axis.XTick at 0x136e2c450>,\n",
       "  <matplotlib.axis.XTick at 0x136e2cb50>,\n",
       "  <matplotlib.axis.XTick at 0x13a498290>],\n",
       " <a list of 6 Text xticklabel objects>)"
      ]
     },
     "execution_count": 266,
     "metadata": {},
     "output_type": "execute_result"
    },
    {
     "data": {
      "image/png": "[encoded data removed]",
      "text/plain": [
       "<matplotlib.figure.Figure at 0x132887790>"
      ]
     },
     "metadata": {},
     "output_type": "display_data"
    }
   ],
   "source": [
    "# Plot the accuracy for each classifier\n",
    "fig = plt.figure()\n",
    "index = np.arange(len(model))\n",
    "plt.bar(index, accuracy)\n",
    "fig.suptitle('Accuracy Comparison for Sedentary Data', fontsize=18)\n",
    "plt.ylabel('Accuracy', fontsize=16)\n",
    "plt.xticks(index, model)\n"
   ]
  },
  {
   "cell_type": "code",
   "execution_count": 267,
   "metadata": {
    "collapsed": false
   },
   "outputs": [
    {
     "data": {
      "text/plain": [
       "([<matplotlib.axis.XTick at 0x119be0c90>,\n",
       "  <matplotlib.axis.XTick at 0x119c1c350>,\n",
       "  <matplotlib.axis.XTick at 0x13abe1950>,\n",
       "  <matplotlib.axis.XTick at 0x13b580890>,\n",
       "  <matplotlib.axis.XTick at 0x13b580f90>,\n",
       "  <matplotlib.axis.XTick at 0x13b58d6d0>],\n",
       " <a list of 6 Text xticklabel objects>)"
      ]
     },
     "execution_count": 267,
     "metadata": {},
     "output_type": "execute_result"
    },
    {
     "data": {
      "image/png": "[encoded data removed]",
      "text/plain": [
       "<matplotlib.figure.Figure at 0x13a4ba290>"
      ]
     },
     "metadata": {},
     "output_type": "display_data"
    }
   ],
   "source": [
    "# Plot the training time for each classifier\n",
    "fig = plt.figure()\n",
    "index = np.arange(len(model))\n",
    "plt.bar(index, train_time)\n",
    "fig.suptitle('Training Time Comparison for Sedentary Data', fontsize=18)\n",
    "plt.ylabel('Time', fontsize=16)\n",
    "plt.xticks(index, model)"
   ]
  },
  {
   "cell_type": "code",
   "execution_count": 268,
   "metadata": {
    "collapsed": false
   },
   "outputs": [
    {
     "data": {
      "text/plain": [
       "([<matplotlib.axis.XTick at 0x13a4ba910>,\n",
       "  <matplotlib.axis.XTick at 0x13289d3d0>,\n",
       "  <matplotlib.axis.XTick at 0x13c73dd90>,\n",
       "  <matplotlib.axis.XTick at 0x13c9edcd0>,\n",
       "  <matplotlib.axis.XTick at 0x13c9f8410>,\n",
       "  <matplotlib.axis.XTick at 0x13c9f8b10>],\n",
       " <a list of 6 Text xticklabel objects>)"
      ]
     },
     "execution_count": 268,
     "metadata": {},
     "output_type": "execute_result"
    },
    {
     "data": {
      "image/png": "[encoded data removed]",
      "text/plain": [
       "<matplotlib.figure.Figure at 0x13b5a3990>"
      ]
     },
     "metadata": {},
     "output_type": "display_data"
    }
   ],
   "source": [
    "# Plot the prediction time for each classifier\n",
    "fig = plt.figure()\n",
    "index = np.arange(len(model))\n",
    "plt.bar(index, pred_time)\n",
    "fig.suptitle('Prediction Time Comparison for Sedentary Data', fontsize=18)\n",
    "plt.ylabel('Time', fontsize=16)\n",
    "plt.xticks(index, model)"
   ]
  },
  {
   "cell_type": "markdown",
   "metadata": {},
   "source": [
    "## Conclusion\n",
    "\n",
    "So for sedentary data, the overall accuracies for our models drop to less than 70%.\n",
    "\n",
    "## Evaluation\n"
   ]
  },
  {
   "cell_type": "code",
   "execution_count": null,
   "metadata": {
    "collapsed": true
   },
   "outputs": [],
   "source": [
    "import matplotlib.pyplot as plt\n",
    "import numpy as np\n",
    "%matplotlib inline\n",
    "ind =  np.arange(3)   # the x locations for the groups\n",
    "width = 0.1       # the width of the bars\n",
    "fig, ax = plt.subplots()\n",
    "rects1 = ax.bar(ind, Out_Accuracy_1, width, color='r')\n",
    "rects2 = ax.bar(ind + width, Out_Accuracy_2, width, color='y')\n",
    "rects3 = ax.bar(ind + width + width ,Out_Accuracy_3, width, color='b')\n",
    "ax.set_ylabel('Accuracy')\n",
    "ax.set_title('Accuracy by Models and Selection Process')\n",
    "ax.set_xticks(ind + width)\n",
    "ax.set_xticklabels(Model_3,rotation=45)\n",
    "plt.show()"
   ]
  },
  {
   "cell_type": "markdown",
   "metadata": {},
   "source": [
    "### The Confusion Matrix"
   ]
  },
  {
   "cell_type": "markdown",
   "metadata": {},
   "source": [
    "Conclusion\n",
    "The feature selection can hugely decrease the running time of complicated model, without obviously jeopardizing the performance of model.\n",
    "\n",
    "The overall accuracy of the model will not be necessarily compromised by shrinking the size of the data set. The main reason is that good feature selection may prevent over-fitting to some extents."
   ]
  },
  {
   "cell_type": "markdown",
   "metadata": {},
   "source": [
    "SVM +Boosting in an Ensamble"
   ]
  },
  {
   "cell_type": "markdown",
   "metadata": {},
   "source": [
    "## What I learned\n",
    "\n",
    "- Feature selection\n",
    "    - cheaper to measure, train, and predict\n",
    "    - improve accuracy by excluding irrelevant vairables\n",
    "    - More understandable for human"
   ]
  },
  {
   "cell_type": "markdown",
   "metadata": {},
   "source": [
    "## Self-check\n",
    "\n",
    "1. Dataset Augmentation\n",
    "\n",
    "- Generating the dataset by myself is limited by the time and equipment constraint\n",
    "- Accelerometer & force & marker data are all generated in lab setting with participants only walking at a certain speed. The data is too regular and the degree of freedom is too small to even need to be fed into a classifier. Simple linear threshold can do a good job of finding the local maxima and minima to identify Heel Strike and Toe Off events. And it's for sure that the model won't generalize well for outdoor real-life events.\n",
    "- So what may be more interesting from those datasets is the frequency analysis of the gait cycles. \n",
    "- The human activity dataset from Kaggle is better in both the complexity of activity types, it has already been labeled manually, by examining video clips \n",
    "\n",
    "I tried to contact the open-source MAREA gait database but haven't heard from them yet.\n",
    "\n",
    "2. Multiplicity of models\n",
    "\n",
    "I trained 3 models in parallel, however, they all use the same input, same attributes.\n",
    "\n",
    "-> foot force data for neural network \n",
    "\n",
    "\n",
    "3. Visualization\n",
    "\n",
    "\n",
    "\n",
    "4. Regularization\n",
    "\n",
    "Regularization cannot save me. "
   ]
  },
  {
   "cell_type": "markdown",
   "metadata": {},
   "source": [
    "## Limitations\n",
    "\n",
    "- Dataset\n",
    "  - No labels\n",
    "  - Normal walking and running in the sagittal plane on level ground\n",
    "    - May not generalize when the walking speed changes\n",
    "    - Haven't considered toe walkers\n",
    "  - Only acclerometer data was used. Potential features include:\n",
    "    - gyroscope data\n",
    "    - foot angular velocity data\n",
    "    - sensors on the shank, thigh and foot of both left & right side\n",
    "    - video captures\n",
    "  - Test on both healthy individuals and patients, different age groups\n",
    "- Models\n",
    "  - No ground truth values for HS and TO\n",
    "  - There is no scientific evaluation method, evaluation was done visually\n",
    "\n"
   ]
  },
  {
   "cell_type": "markdown",
   "metadata": {},
   "source": [
    "## References\n",
    "\n",
    "\n",
    "- Hebenstreit, F., Leibold, A., Krinner, S., Welsch, G., Lochmann, M., Eskofier, B.M. (2014) Are Relative Gait Phase Durations Speed Dependent?, submitted.\n",
    "\n",
    "- Gait Partitioning Methods: A Systematic Review \n",
    "https://www.ncbi.nlm.nih.gov/pmc/articles/PMC4732099/\n",
    "\n",
    "- Weijun Tao 1, Tao Liu 2,*, Rencheng Zheng 3 and Hutian Feng 1 Gait Analysis Using Wearable Sensors\n",
    "\n",
    "- Introduction of gait cycle https://www.physio-pedia.com/Gait\n",
    "\n",
    "- A Neural Network-Based Gait Phase Classification Method Using Sensors Equipped on Lower Limb Exoskeleton Robots\n",
    "\n",
    "- Davide Anguita, Alessandro Ghio, Luca Oneto, Xavier Parra and Jorge L. Reyes-Ortiz. Human Activity Recognition on Smartphones using a Multiclass Hardware-Friendly Support Vector Machine. International Workshop of Ambient Assisted Living (IWAAL 2012). Vitoria-Gasteiz, Spain. Dec 2012 https://www.icephd.org/sites/default/files/IWAAL2012.pdf\n",
    "\n",
    "- Davide Anguita, Alessandro Ghio, Luca Oneto, Xavier Parra, Jorge L. Reyes-Ortiz. Energy Efficient Smartphone-Based Activity Recognition using Fixed-Point Arithmetic. Journal of Universal Computer Science. Special Issue in Ambient Assisted Living: Home Care. Volume 19, Issue 9. May 2013 https://pdfs.semanticscholar.org/dc70/24840a4ba7ab634517fae53e77695ff5dda9.pdf\n",
    "\n",
    "- Jorge Luis Reyes-Ortiz, Alessandro Ghio, Xavier Parra-Llanas, Davide Anguita, Joan Cabestany, Andreu Català. Human Activity and Motion Disorder Recognition: Towards Smarter Interactive Cognitive Environments. 21st European Symposium on Artificial Neural Networks, Computational Intelligence and Machine Learning, ESANN 2013. Bruges, Belgium 24-26 April 2013. https://www.elen.ucl.ac.be/Proceedings/esann/esannpdf/es2013-11.pdf\n",
    "\n",
    "- [1] Reunanen, J. (2003). Overfitting in making comparisons between variable selection methods. The Journal of Machine Learning Research, 3, 1371-1382.\n"
   ]
  },
  {
   "cell_type": "code",
   "execution_count": null,
   "metadata": {
    "collapsed": true
   },
   "outputs": [],
   "source": []
  }
 ],
 "metadata": {
  "kernelspec": {
   "display_name": "Python [py27]",
   "language": "python",
   "name": "Python [py27]"
  },
  "language_info": {
   "codemirror_mode": {
    "name": "ipython",
    "version": 2
   },
   "file_extension": ".py",
   "mimetype": "text/x-python",
   "name": "python",
   "nbconvert_exporter": "python",
   "pygments_lexer": "ipython2",
   "version": "2.7.12"
  }
 },
 "nbformat": 4,
 "nbformat_minor": 0
}
