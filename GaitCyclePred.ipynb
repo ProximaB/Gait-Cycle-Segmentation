{
 "cells": [
  {
   "cell_type": "markdown",
   "metadata": {},
   "source": [
    "# Predicting Human Gait Cycles Using Accelerometer Data"
   ]
  },
  {
   "cell_type": "markdown",
   "metadata": {},
   "source": [
    "## Background\n",
    "\n",
    "The human gait cycle is a very complex process which is defined as the period of time from the initial contact of one foot to the following occurrence of hte same event with the same foot.\n",
    "[1] ('<scrip> src=\"https://dx.doi.org/10.1097%2F00008526-199710000-00004\"></scrip>')\n",
    "\n",
    "One gait segment can be simplied classified into the stance phase and the swing phase, or into 4, 5, 6, or even 8 phases. In this project, we used the 4-phase model - heel strike, flat foot, heel off, and swing.\n",
    "\n"
   ]
  },
  {
   "cell_type": "code",
   "execution_count": null,
   "metadata": {
    "collapsed": true
   },
   "outputs": [],
   "source": []
  },
  {
   "cell_type": "markdown",
   "metadata": {},
   "source": [
    "## Libraries"
   ]
  },
  {
   "cell_type": "code",
   "execution_count": 1,
   "metadata": {
    "collapsed": true
   },
   "outputs": [],
   "source": [
    "import numpy as np\n",
    "import pandas as pd"
   ]
  },
  {
   "cell_type": "markdown",
   "metadata": {},
   "source": [
    "## Data Collection\n",
    "\n",
    "The accelerometer on an iPhone was used to collect accleration data. Accelerometers tend to be the most popular data source for gait partitioning problems becuase it's durable, readily available and inexpensive. \n",
    "\n",
    "An accelerometer is an electromechanical device used to measure acceleration forces. Such forces may be static, like the continuous force of gravity or, as is the case with many mobile devices, dynamic to sense movement or vibrations.\n",
    "\n",
    "\n",
    "https://www.livescience.com/40102-accelerometers.html\n",
    "\n",
    "### Data Augmentation\n",
    "\n",
    "Due to lack of time and participants, the training data came from 2 subjects with 10000 steps each. And the development and test data came from 2 other subjects with 100 steps each. Phone with the accelerometer was put at the back pocket of each subject."
   ]
  },
  {
   "cell_type": "markdown",
   "metadata": {},
   "source": [
    "## Data Preprocessing"
   ]
  },
  {
   "cell_type": "code",
   "execution_count": null,
   "metadata": {
    "collapsed": true
   },
   "outputs": [],
   "source": []
  },
  {
   "cell_type": "markdown",
   "metadata": {},
   "source": [
    "## Visualization"
   ]
  },
  {
   "cell_type": "markdown",
   "metadata": {},
   "source": [
    "## Modeling\n",
    "\n",
    "3 models in parrallel\n",
    "\n",
    "### Model 1 - HMM\n",
    "\n",
    "6 phases\n",
    "\n",
    "\n",
    "### Model 2 - CNN\n",
    "\n",
    "multilayer perceptron\n",
    "\n",
    "53\n",
    "\n",
    "moving average technique\n",
    "\n",
    "\n",
    "### Model 3 - \n",
    "Regularization"
   ]
  },
  {
   "cell_type": "markdown",
   "metadata": {},
   "source": []
  },
  {
   "cell_type": "markdown",
   "metadata": {},
   "source": []
  },
  {
   "cell_type": "markdown",
   "metadata": {},
   "source": []
  },
  {
   "cell_type": "markdown",
   "metadata": {},
   "source": []
  },
  {
   "cell_type": "markdown",
   "metadata": {},
   "source": []
  },
  {
   "cell_type": "markdown",
   "metadata": {},
   "source": []
  },
  {
   "cell_type": "markdown",
   "metadata": {},
   "source": []
  },
  {
   "cell_type": "markdown",
   "metadata": {},
   "source": [
    "## Limitations\n",
    "\n",
    "- Normal walking in the sagittal plane on level ground"
   ]
  },
  {
   "cell_type": "markdown",
   "metadata": {},
   "source": [
    "## Future Work\n",
    "\n",
    "- Increase the dataset size\n",
    "\n",
    "- Better data collection\n",
    "    - Gyroscope\n",
    "\n",
    "    - Sensors on the shank, thigh and foot\n",
    "\n",
    "    - foot angular velocity data\n",
    "    \n",
    "- Test on both healthy individuals and patients, different age groups"
   ]
  },
  {
   "cell_type": "markdown",
   "metadata": {},
   "source": [
    "## References\n"
   ]
  },
  {
   "cell_type": "markdown",
   "metadata": {},
   "source": [
    "Gait Partitioning Methods: A Systematic Review \n",
    "https://www.ncbi.nlm.nih.gov/pmc/articles/PMC4732099/\n",
    "        "
   ]
  },
  {
   "cell_type": "code",
   "execution_count": null,
   "metadata": {
    "collapsed": true
   },
   "outputs": [],
   "source": []
  }
 ],
 "metadata": {
  "anaconda-cloud": {},
  "kernelspec": {
   "display_name": "Python [py27]",
   "language": "python",
   "name": "Python [py27]"
  },
  "language_info": {
   "codemirror_mode": {
    "name": "ipython",
    "version": 2
   },
   "file_extension": ".py",
   "mimetype": "text/x-python",
   "name": "python",
   "nbconvert_exporter": "python",
   "pygments_lexer": "ipython2",
   "version": "2.7.12"
  }
 },
 "nbformat": 4,
 "nbformat_minor": 0
}
