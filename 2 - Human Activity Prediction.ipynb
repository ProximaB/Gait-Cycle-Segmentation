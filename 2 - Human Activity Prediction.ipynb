{
 "cells": [
  {
   "cell_type": "markdown",
   "metadata": {},
   "source": [
    "# Human Activity Data on Kaggle\n",
    "\n",
    "https://www.kaggle.com/uciml/human-activity-recognition-with-smartphones\n",
    "\n",
    "The Human Activity Recognition database was built from the recordings of 30 study participants (19 - 48 years old) performing activities of daily living (ADL) while carrying a waist-mounted smartphone with embedded inertial sensors. The objective is to classify activities into one of the six activities (WALKING, WALKING_UPSTAIRS, WALKING_DOWNSTAIRS, SITTING, STANDING, LAYING) performed.\n",
    "\n",
    "They were wearing a smartphone (Samsung Galaxy S II) on the waist. Using its embedded accelerometer and gyroscope, we captured 3-axial linear acceleration and 3-axial angular velocity at a constant rate of 50Hz. The experiments have been video-recorded to label the data manually. \n",
    "\n",
    "The sensor signals (accelerometer and gyroscope) were pre-processed by applying noise filters and then sampled in fixed-width sliding windows of 2.56 sec and 50% overlap (128 readings/window). The sensor acceleration signal, which has gravitational and body motion components, was separated using a Butterworth low-pass filter into body acceleration and gravity. The gravitational force is assumed to have only low frequency components, therefore a filter with 0.3 Hz cutoff frequency was used. From each window, a vector of features was obtained by calculating variables from the time and frequency domain.\n",
    "\n",
    "For each record in the dataset the following is provided:\n",
    "\n",
    "- Triaxial acceleration from the accelerometer (total acceleration) and the estimated body acceleration.\n",
    "- Triaxial Angular velocity from the gyroscope.\n",
    "- A 561-feature vector with time and frequency domain variables.\n",
    "- Its activity label.\n",
    "- An identifier of the subject who carried out the experiment.\n",
    "\n",
    "Notes: \n",
    "======\n",
    "- Features are normalized and bounded within [-1,1].\n",
    "- Each feature vector is a row on the text file.\n",
    "- The units used for the accelerations (total and body) are 'g's (gravity of earth -> 9.80665 m/seg2).\n",
    "- The gyroscope units are rad/seg.\n",
    "- A video of the experiment including an example of the 6 recorded activities with one of the participants can be seen in the following link: http://www.youtube.com/watch?v=XOEN9W05_4A\n",
    "\n",
    "\n",
    "## Load Data"
   ]
  },
  {
   "cell_type": "code",
   "execution_count": 1,
   "metadata": {
    "collapsed": true
   },
   "outputs": [],
   "source": [
    "import numpy as np\n",
    "import pandas as pd\n",
    "import matplotlib.pyplot as plt\n",
    "import matplotlib.patches as mpatches\n",
    "\n",
    "% matplotlib inline"
   ]
  },
  {
   "cell_type": "code",
   "execution_count": 2,
   "metadata": {
    "collapsed": true
   },
   "outputs": [],
   "source": [
    "path = \"./human-activity-recognition-with-smartphones/\"\n",
    "train_filename = \"train.csv\"\n",
    "test_filename = \"test.csv\"\n",
    "train = pd.read_csv(path+train_filename)\n",
    "test = pd.read_csv(path+test_filename)"
   ]
  },
  {
   "cell_type": "code",
   "execution_count": 3,
   "metadata": {
    "collapsed": false
   },
   "outputs": [
    {
     "data": {
      "text/plain": [
       "(7352, 563)"
      ]
     },
     "execution_count": 3,
     "metadata": {},
     "output_type": "execute_result"
    }
   ],
   "source": [
    "train.shape"
   ]
  },
  {
   "cell_type": "code",
   "execution_count": 4,
   "metadata": {
    "collapsed": false
   },
   "outputs": [
    {
     "data": {
      "text/html": [
       "<div>\n",
       "<style>\n",
       "    .dataframe thead tr:only-child th {\n",
       "        text-align: right;\n",
       "    }\n",
       "\n",
       "    .dataframe thead th {\n",
       "        text-align: left;\n",
       "    }\n",
       "\n",
       "    .dataframe tbody tr th {\n",
       "        vertical-align: top;\n",
       "    }\n",
       "</style>\n",
       "<table border=\"1\" class=\"dataframe\">\n",
       "  <thead>\n",
       "    <tr style=\"text-align: right;\">\n",
       "      <th></th>\n",
       "      <th>tBodyAcc-mean()-X</th>\n",
       "      <th>tBodyAcc-mean()-Y</th>\n",
       "      <th>tBodyAcc-mean()-Z</th>\n",
       "      <th>tBodyAcc-std()-X</th>\n",
       "      <th>tBodyAcc-std()-Y</th>\n",
       "      <th>tBodyAcc-std()-Z</th>\n",
       "      <th>tBodyAcc-mad()-X</th>\n",
       "      <th>tBodyAcc-mad()-Y</th>\n",
       "      <th>tBodyAcc-mad()-Z</th>\n",
       "      <th>tBodyAcc-max()-X</th>\n",
       "      <th>...</th>\n",
       "      <th>fBodyBodyGyroJerkMag-kurtosis()</th>\n",
       "      <th>angle(tBodyAccMean,gravity)</th>\n",
       "      <th>angle(tBodyAccJerkMean),gravityMean)</th>\n",
       "      <th>angle(tBodyGyroMean,gravityMean)</th>\n",
       "      <th>angle(tBodyGyroJerkMean,gravityMean)</th>\n",
       "      <th>angle(X,gravityMean)</th>\n",
       "      <th>angle(Y,gravityMean)</th>\n",
       "      <th>angle(Z,gravityMean)</th>\n",
       "      <th>subject</th>\n",
       "      <th>Activity</th>\n",
       "    </tr>\n",
       "  </thead>\n",
       "  <tbody>\n",
       "    <tr>\n",
       "      <th>0</th>\n",
       "      <td>0.288585</td>\n",
       "      <td>-0.020294</td>\n",
       "      <td>-0.132905</td>\n",
       "      <td>-0.995279</td>\n",
       "      <td>-0.983111</td>\n",
       "      <td>-0.913526</td>\n",
       "      <td>-0.995112</td>\n",
       "      <td>-0.983185</td>\n",
       "      <td>-0.923527</td>\n",
       "      <td>-0.934724</td>\n",
       "      <td>...</td>\n",
       "      <td>-0.710304</td>\n",
       "      <td>-0.112754</td>\n",
       "      <td>0.030400</td>\n",
       "      <td>-0.464761</td>\n",
       "      <td>-0.018446</td>\n",
       "      <td>-0.841247</td>\n",
       "      <td>0.179941</td>\n",
       "      <td>-0.058627</td>\n",
       "      <td>1</td>\n",
       "      <td>STANDING</td>\n",
       "    </tr>\n",
       "    <tr>\n",
       "      <th>1</th>\n",
       "      <td>0.278419</td>\n",
       "      <td>-0.016411</td>\n",
       "      <td>-0.123520</td>\n",
       "      <td>-0.998245</td>\n",
       "      <td>-0.975300</td>\n",
       "      <td>-0.960322</td>\n",
       "      <td>-0.998807</td>\n",
       "      <td>-0.974914</td>\n",
       "      <td>-0.957686</td>\n",
       "      <td>-0.943068</td>\n",
       "      <td>...</td>\n",
       "      <td>-0.861499</td>\n",
       "      <td>0.053477</td>\n",
       "      <td>-0.007435</td>\n",
       "      <td>-0.732626</td>\n",
       "      <td>0.703511</td>\n",
       "      <td>-0.844788</td>\n",
       "      <td>0.180289</td>\n",
       "      <td>-0.054317</td>\n",
       "      <td>1</td>\n",
       "      <td>STANDING</td>\n",
       "    </tr>\n",
       "    <tr>\n",
       "      <th>2</th>\n",
       "      <td>0.279653</td>\n",
       "      <td>-0.019467</td>\n",
       "      <td>-0.113462</td>\n",
       "      <td>-0.995380</td>\n",
       "      <td>-0.967187</td>\n",
       "      <td>-0.978944</td>\n",
       "      <td>-0.996520</td>\n",
       "      <td>-0.963668</td>\n",
       "      <td>-0.977469</td>\n",
       "      <td>-0.938692</td>\n",
       "      <td>...</td>\n",
       "      <td>-0.760104</td>\n",
       "      <td>-0.118559</td>\n",
       "      <td>0.177899</td>\n",
       "      <td>0.100699</td>\n",
       "      <td>0.808529</td>\n",
       "      <td>-0.848933</td>\n",
       "      <td>0.180637</td>\n",
       "      <td>-0.049118</td>\n",
       "      <td>1</td>\n",
       "      <td>STANDING</td>\n",
       "    </tr>\n",
       "    <tr>\n",
       "      <th>3</th>\n",
       "      <td>0.279174</td>\n",
       "      <td>-0.026201</td>\n",
       "      <td>-0.123283</td>\n",
       "      <td>-0.996091</td>\n",
       "      <td>-0.983403</td>\n",
       "      <td>-0.990675</td>\n",
       "      <td>-0.997099</td>\n",
       "      <td>-0.982750</td>\n",
       "      <td>-0.989302</td>\n",
       "      <td>-0.938692</td>\n",
       "      <td>...</td>\n",
       "      <td>-0.482845</td>\n",
       "      <td>-0.036788</td>\n",
       "      <td>-0.012892</td>\n",
       "      <td>0.640011</td>\n",
       "      <td>-0.485366</td>\n",
       "      <td>-0.848649</td>\n",
       "      <td>0.181935</td>\n",
       "      <td>-0.047663</td>\n",
       "      <td>1</td>\n",
       "      <td>STANDING</td>\n",
       "    </tr>\n",
       "    <tr>\n",
       "      <th>4</th>\n",
       "      <td>0.276629</td>\n",
       "      <td>-0.016570</td>\n",
       "      <td>-0.115362</td>\n",
       "      <td>-0.998139</td>\n",
       "      <td>-0.980817</td>\n",
       "      <td>-0.990482</td>\n",
       "      <td>-0.998321</td>\n",
       "      <td>-0.979672</td>\n",
       "      <td>-0.990441</td>\n",
       "      <td>-0.942469</td>\n",
       "      <td>...</td>\n",
       "      <td>-0.699205</td>\n",
       "      <td>0.123320</td>\n",
       "      <td>0.122542</td>\n",
       "      <td>0.693578</td>\n",
       "      <td>-0.615971</td>\n",
       "      <td>-0.847865</td>\n",
       "      <td>0.185151</td>\n",
       "      <td>-0.043892</td>\n",
       "      <td>1</td>\n",
       "      <td>STANDING</td>\n",
       "    </tr>\n",
       "  </tbody>\n",
       "</table>\n",
       "<p>5 rows × 563 columns</p>\n",
       "</div>"
      ],
      "text/plain": [
       "   tBodyAcc-mean()-X  tBodyAcc-mean()-Y  tBodyAcc-mean()-Z  tBodyAcc-std()-X  \\\n",
       "0           0.288585          -0.020294          -0.132905         -0.995279   \n",
       "1           0.278419          -0.016411          -0.123520         -0.998245   \n",
       "2           0.279653          -0.019467          -0.113462         -0.995380   \n",
       "3           0.279174          -0.026201          -0.123283         -0.996091   \n",
       "4           0.276629          -0.016570          -0.115362         -0.998139   \n",
       "\n",
       "   tBodyAcc-std()-Y  tBodyAcc-std()-Z  tBodyAcc-mad()-X  tBodyAcc-mad()-Y  \\\n",
       "0         -0.983111         -0.913526         -0.995112         -0.983185   \n",
       "1         -0.975300         -0.960322         -0.998807         -0.974914   \n",
       "2         -0.967187         -0.978944         -0.996520         -0.963668   \n",
       "3         -0.983403         -0.990675         -0.997099         -0.982750   \n",
       "4         -0.980817         -0.990482         -0.998321         -0.979672   \n",
       "\n",
       "   tBodyAcc-mad()-Z  tBodyAcc-max()-X    ...     \\\n",
       "0         -0.923527         -0.934724    ...      \n",
       "1         -0.957686         -0.943068    ...      \n",
       "2         -0.977469         -0.938692    ...      \n",
       "3         -0.989302         -0.938692    ...      \n",
       "4         -0.990441         -0.942469    ...      \n",
       "\n",
       "   fBodyBodyGyroJerkMag-kurtosis()  angle(tBodyAccMean,gravity)  \\\n",
       "0                        -0.710304                    -0.112754   \n",
       "1                        -0.861499                     0.053477   \n",
       "2                        -0.760104                    -0.118559   \n",
       "3                        -0.482845                    -0.036788   \n",
       "4                        -0.699205                     0.123320   \n",
       "\n",
       "   angle(tBodyAccJerkMean),gravityMean)  angle(tBodyGyroMean,gravityMean)  \\\n",
       "0                              0.030400                         -0.464761   \n",
       "1                             -0.007435                         -0.732626   \n",
       "2                              0.177899                          0.100699   \n",
       "3                             -0.012892                          0.640011   \n",
       "4                              0.122542                          0.693578   \n",
       "\n",
       "   angle(tBodyGyroJerkMean,gravityMean)  angle(X,gravityMean)  \\\n",
       "0                             -0.018446             -0.841247   \n",
       "1                              0.703511             -0.844788   \n",
       "2                              0.808529             -0.848933   \n",
       "3                             -0.485366             -0.848649   \n",
       "4                             -0.615971             -0.847865   \n",
       "\n",
       "   angle(Y,gravityMean)  angle(Z,gravityMean)  subject  Activity  \n",
       "0              0.179941             -0.058627        1  STANDING  \n",
       "1              0.180289             -0.054317        1  STANDING  \n",
       "2              0.180637             -0.049118        1  STANDING  \n",
       "3              0.181935             -0.047663        1  STANDING  \n",
       "4              0.185151             -0.043892        1  STANDING  \n",
       "\n",
       "[5 rows x 563 columns]"
      ]
     },
     "execution_count": 4,
     "metadata": {},
     "output_type": "execute_result"
    }
   ],
   "source": [
    "train.head()"
   ]
  },
  {
   "cell_type": "markdown",
   "metadata": {},
   "source": [
    "Apparently, this dataset has been exploited by thousands of Kagglers and 97% accuracy is as easy as SVM + boosting. What I will do is try to predict for different subjects not activities.\n",
    "\n",
    "However, the train and test set right now contains totally different subjects. What I will do is merge them, and randomly split the whole dataset into new train & test set."
   ]
  },
  {
   "cell_type": "code",
   "execution_count": 5,
   "metadata": {
    "collapsed": true
   },
   "outputs": [],
   "source": [
    "# Merge current train and test\n",
    "train_all = train.append(test)\n",
    "# And split to 70% train, 30% test\n",
    "from sklearn.model_selection import train_test_split\n",
    "train, test = train_test_split(train_all, test_size = 0.3)"
   ]
  },
  {
   "cell_type": "code",
   "execution_count": 6,
   "metadata": {
    "collapsed": true
   },
   "outputs": [],
   "source": [
    "# Split into variables and labels\n",
    "X_train = train.iloc[:, :-2].values\n",
    "y_train = train.iloc[:,-2].values\n",
    "activity_train = train.iloc[:,-1].values\n",
    "\n",
    "X_test = test.iloc[:, :-2].values\n",
    "y_test = test.iloc[:,-2].values\n",
    "activity_test = test.iloc[:,-1].values"
   ]
  },
  {
   "cell_type": "code",
   "execution_count": 7,
   "metadata": {
    "collapsed": false
   },
   "outputs": [
    {
     "data": {
      "text/plain": [
       "array([24, 25,  5, ..., 15,  2, 24])"
      ]
     },
     "execution_count": 7,
     "metadata": {},
     "output_type": "execute_result"
    }
   ],
   "source": [
    "y_test"
   ]
  },
  {
   "cell_type": "code",
   "execution_count": 8,
   "metadata": {
    "collapsed": false
   },
   "outputs": [
    {
     "data": {
      "text/plain": [
       "(3090,)"
      ]
     },
     "execution_count": 8,
     "metadata": {},
     "output_type": "execute_result"
    }
   ],
   "source": [
    "y_test.shape"
   ]
  },
  {
   "cell_type": "code",
   "execution_count": 9,
   "metadata": {
    "collapsed": false
   },
   "outputs": [
    {
     "data": {
      "text/plain": [
       "(array([ 1,  2,  3,  4,  5,  6,  7,  8,  9, 10, 11, 12, 13, 14, 15, 16, 17,\n",
       "        18, 19, 20, 21, 22, 23, 24, 25, 26, 27, 28, 29, 30]),\n",
       " array([230, 212, 244, 238, 222, 230, 217, 194, 195, 202, 218, 224, 224,\n",
       "        222, 228, 256, 265, 259, 238, 241, 295, 234, 267, 265, 286, 272,\n",
       "        270, 252, 241, 268]))"
      ]
     },
     "execution_count": 9,
     "metadata": {},
     "output_type": "execute_result"
    }
   ],
   "source": [
    "# Some descriptive analysis\n",
    "label, counts = np.unique(y_train, return_counts=True)\n",
    "label, counts"
   ]
  },
  {
   "cell_type": "code",
   "execution_count": 11,
   "metadata": {
    "collapsed": false
   },
   "outputs": [
    {
     "data": {
      "text/plain": [
       "<matplotlib.axes._subplots.AxesSubplot at 0x11a5ad350>"
      ]
     },
     "execution_count": 11,
     "metadata": {},
     "output_type": "execute_result"
    },
    {
     "data": {
      "image/png": "[encoded data removed]",
      "text/plain": [
       "<matplotlib.figure.Figure at 0x110fed390>"
      ]
     },
     "metadata": {},
     "output_type": "display_data"
    }
   ],
   "source": [
    "train['subject'].value_counts().plot(kind='bar')"
   ]
  },
  {
   "cell_type": "code",
   "execution_count": 12,
   "metadata": {
    "collapsed": false
   },
   "outputs": [
    {
     "data": {
      "text/plain": [
       "<matplotlib.axes._subplots.AxesSubplot at 0x123285b10>"
      ]
     },
     "execution_count": 12,
     "metadata": {},
     "output_type": "execute_result"
    },
    {
     "data": {
      "image/png": "[encoded data removed]",
      "text/plain": [
       "<matplotlib.figure.Figure at 0x1232019d0>"
      ]
     },
     "metadata": {},
     "output_type": "display_data"
    }
   ],
   "source": [
    "test['subject'].value_counts().plot(kind='bar')"
   ]
  },
  {
   "cell_type": "markdown",
   "metadata": {},
   "source": [
    "The bar chart look pretty balanced. It seems that in training set, around 300 to 400 records were recorded for each and for test set 80 ~ 110 records were there for each."
   ]
  },
  {
   "cell_type": "code",
   "execution_count": 13,
   "metadata": {
    "collapsed": false
   },
   "outputs": [
    {
     "data": {
      "text/plain": [
       "<matplotlib.axes._subplots.AxesSubplot at 0x12355bad0>"
      ]
     },
     "execution_count": 13,
     "metadata": {},
     "output_type": "execute_result"
    },
    {
     "data": {
      "image/png": "[encoded data removed]",
      "text/plain": [
       "<matplotlib.figure.Figure at 0x123190610>"
      ]
     },
     "metadata": {},
     "output_type": "display_data"
    }
   ],
   "source": [
    "train['Activity'].value_counts().plot(kind='bar')"
   ]
  },
  {
   "cell_type": "markdown",
   "metadata": {},
   "source": [
    "Although different people may very well sit, stand or lie down differnetly, I assume that the differences become more obvious when we are moving. So I will split the dataset into 2 subgroups, sedentary and moving, corresponds to laying + standing + sitting and walking + walking upstairs + walking downstairs respectively. "
   ]
  },
  {
   "cell_type": "code",
   "execution_count": 14,
   "metadata": {
    "collapsed": false
   },
   "outputs": [
    {
     "data": {
      "text/plain": [
       "array([23, 21,  5, ..., 30, 25, 10])"
      ]
     },
     "execution_count": 14,
     "metadata": {},
     "output_type": "execute_result"
    }
   ],
   "source": [
    "y_train"
   ]
  },
  {
   "cell_type": "code",
   "execution_count": 15,
   "metadata": {
    "collapsed": false
   },
   "outputs": [
    {
     "data": {
      "text/plain": [
       "(7209,)"
      ]
     },
     "execution_count": 15,
     "metadata": {},
     "output_type": "execute_result"
    }
   ],
   "source": [
    "activity_train.shape"
   ]
  },
  {
   "cell_type": "code",
   "execution_count": 16,
   "metadata": {
    "collapsed": true
   },
   "outputs": [],
   "source": [
    "train_sedentary_ind = [i for i, a in enumerate(activity_train) if a == 'LAYING' or a == 'STANDING' or a == 'SITTING']\n",
    "train_moving_ind = [i for i, a in enumerate(activity_train) if a == 'WALKING' or a == 'WALKING_UPSTAIRS' or a == 'WALKING_DOWNSTAIRS']\n",
    "test_sedentary_ind = [i for i, a in enumerate(activity_test) if a == 'LAYING' or a == 'STANDING' or a == 'SITTING']\n",
    "test_moving_ind = [i for i, a in enumerate(activity_test) if a == 'WALKING' or a == 'WALKING_UPSTAIRS' or a == 'WALKING_DOWNSTAIRS']"
   ]
  },
  {
   "cell_type": "code",
   "execution_count": 17,
   "metadata": {
    "collapsed": false
   },
   "outputs": [
    {
     "data": {
      "text/plain": [
       "(3950, 3259)"
      ]
     },
     "execution_count": 17,
     "metadata": {},
     "output_type": "execute_result"
    }
   ],
   "source": [
    "len(train_sedentary_ind), len(train_moving_ind)"
   ]
  },
  {
   "cell_type": "code",
   "execution_count": 18,
   "metadata": {
    "collapsed": false
   },
   "outputs": [
    {
     "data": {
      "text/plain": [
       "(1677, 1413)"
      ]
     },
     "execution_count": 18,
     "metadata": {},
     "output_type": "execute_result"
    }
   ],
   "source": [
    "len(test_sedentary_ind), len(test_moving_ind)"
   ]
  },
  {
   "cell_type": "code",
   "execution_count": 19,
   "metadata": {
    "collapsed": true
   },
   "outputs": [],
   "source": [
    "# features\n",
    "X_train_sedentary = X_train[train_sedentary_ind, :]\n",
    "X_train_moving = X_train[train_moving_ind, :]\n",
    "\n",
    "X_test_sedentary = X_test[test_sedentary_ind, :]\n",
    "X_test_moving = X_test[test_moving_ind, :]"
   ]
  },
  {
   "cell_type": "code",
   "execution_count": 20,
   "metadata": {
    "collapsed": true
   },
   "outputs": [],
   "source": [
    "# labels \n",
    "y_train_sedentary = y_train[train_sedentary_ind]\n",
    "y_train_moving = y_train[train_moving_ind]\n",
    "\n",
    "y_test_sedentary = y_test[test_sedentary_ind]\n",
    "y_test_moving = y_test[test_moving_ind]"
   ]
  },
  {
   "cell_type": "code",
   "execution_count": 21,
   "metadata": {
    "collapsed": false
   },
   "outputs": [
    {
     "data": {
      "text/plain": [
       "'tBodyAcc-max()-X'"
      ]
     },
     "execution_count": 21,
     "metadata": {},
     "output_type": "execute_result"
    }
   ],
   "source": [
    "train.columns.tolist()[9]"
   ]
  },
  {
   "cell_type": "code",
   "execution_count": 22,
   "metadata": {
    "collapsed": false
   },
   "outputs": [
    {
     "name": "stderr",
     "output_type": "stream",
     "text": [
      "/Users/Tina/anaconda/envs/py27/lib/python2.7/site-packages/matplotlib/cbook.py:136: MatplotlibDeprecationWarning: The set_color_cycle attribute was deprecated in version 1.5. Use set_prop_cycle instead.\n",
      "  warnings.warn(message, mplDeprecation, stacklevel=1)\n"
     ]
    },
    {
     "data": {
      "text/plain": [
       "<matplotlib.text.Text at 0x123717b50>"
      ]
     },
     "execution_count": 22,
     "metadata": {},
     "output_type": "execute_result"
    },
    {
     "data": {
      "image/png": "[encoded data removed]",
      "text/plain": [
       "<matplotlib.figure.Figure at 0x123190c90>"
      ]
     },
     "metadata": {},
     "output_type": "display_data"
    }
   ],
   "source": [
    "# Plot the max acceleration on the X axis\n",
    "\n",
    "fig = plt.figure(figsize=(20,10)) \n",
    "plt.gca().set_color_cycle(['blue', 'red'])\n",
    "plt.plot(X_train_sedentary[:200, 9])\n",
    "plt.plot(X_train_moving[:200, 9])\n",
    "\n",
    "blue_patch = mpatches.Patch(color='blue', label='Sedentary')\n",
    "yellow_patch = mpatches.Patch(color='red', label='Moving')\n",
    "plt.legend(handles=[blue_patch, yellow_patch])\n",
    "plt.title(\"tBodyACC-max()-X for Moving & Sedentary Records\", fontsize=20)"
   ]
  },
  {
   "cell_type": "markdown",
   "metadata": {},
   "source": [
    "The sensor data for moving and sedentary activities are actually very different as we expected. I will try to build a subject classifier using moving data and sedentary data respectively and see which one performs better. And this will give us an idea about are we more different when we move, or when we don't move.\n",
    "\n",
    "Probably it will also make sense if we get more data of the subjects, their age, gender, weight, height we can try to run regression against these attribtues and find if there is a common trend in how people move and not move with regards to their physical conditions."
   ]
  },
  {
   "cell_type": "markdown",
   "metadata": {},
   "source": [
    "\n",
    "## Data Preprocessing\n",
    "\n",
    "\n",
    "### Feature Selection \n"
   ]
  },
  {
   "cell_type": "markdown",
   "metadata": {},
   "source": [
    "### 1. Manually Examination into the Features\n"
   ]
  },
  {
   "cell_type": "markdown",
   "metadata": {},
   "source": [
    "Original Feature Explanation\n",
    "\n",
    "The features selected for this database come from the accelerometer and gyroscope 3-axial raw signals tAcc-XYZ and tGyro-XYZ. These time domain signals (prefix 't' to denote time) were captured at a constant rate of 50 Hz. Then they were filtered using a median filter and a 3rd order low pass Butterworth filter with a corner frequency of 20 Hz to remove noise. Similarly, the acceleration signal was then separated into body and gravity acceleration signals (tBodyAcc-XYZ and tGravityAcc-XYZ) using another low pass Butterworth filter with a corner frequency of 0.3 Hz. \n",
    "\n",
    "Subsequently, the body linear acceleration and angular velocity were derived in time to obtain Jerk signals (tBodyAccJerk-XYZ and tBodyGyroJerk-XYZ). Also the magnitude of these three-dimensional signals were calculated using the Euclidean norm (tBodyAccMag, tGravityAccMag, tBodyAccJerkMag, tBodyGyroMag, tBodyGyroJerkMag). \n",
    "\n",
    "Finally a Fast Fourier Transform (FFT) was applied to some of these signals producing fBodyAcc-XYZ, fBodyAccJerk-XYZ, fBodyGyro-XYZ, fBodyAccJerkMag, fBodyGyroMag, fBodyGyroJerkMag. (Note the 'f' to indicate frequency domain signals). \n",
    "\n",
    "These signals were used to estimate variables of the feature vector for each pattern:  \n",
    "'-XYZ' is used to denote 3-axial signals in the X, Y and Z directions.\n",
    "\n"
   ]
  },
  {
   "cell_type": "markdown",
   "metadata": {},
   "source": [
    "1. The acceleometer data was separated into body and gravity accleration signals using a low pass Butterworth filter with a corner frequency of 0.3 HZ. I will assume that the gravity accleration is the same for everyone and won't affect the individual movements too much. So first all the gravity features were removed.\n"
   ]
  },
  {
   "cell_type": "code",
   "execution_count": 23,
   "metadata": {
    "collapsed": false
   },
   "outputs": [
    {
     "data": {
      "text/plain": [
       "(10299, 563)"
      ]
     },
     "execution_count": 23,
     "metadata": {},
     "output_type": "execute_result"
    }
   ],
   "source": [
    "train_all.shape"
   ]
  },
  {
   "cell_type": "code",
   "execution_count": 24,
   "metadata": {
    "collapsed": true
   },
   "outputs": [],
   "source": [
    "features_all = train_all.columns.tolist()"
   ]
  },
  {
   "cell_type": "code",
   "execution_count": 25,
   "metadata": {
    "collapsed": true
   },
   "outputs": [],
   "source": [
    "features_remove_gravity = [x for x in features_all if \"gravity\" not in x.lower()]"
   ]
  },
  {
   "cell_type": "code",
   "execution_count": 26,
   "metadata": {
    "collapsed": false
   },
   "outputs": [
    {
     "data": {
      "text/plain": [
       "503"
      ]
     },
     "execution_count": 26,
     "metadata": {},
     "output_type": "execute_result"
    }
   ],
   "source": [
    "len(features_remove_gravity)"
   ]
  },
  {
   "cell_type": "markdown",
   "metadata": {},
   "source": [
    "\n",
    "60 gravity acceleration related features were removed. \n",
    "\n"
   ]
  },
  {
   "cell_type": "markdown",
   "metadata": {},
   "source": [
    "1. \n",
    "2. Now I wanted to separate all the jerk signals computed from the body linear acceleration and angular velocity from the original data. And also the magnitude of these signals.\n",
    "\n",
    "The reason for that is a paper suggested that jerk-filtered signal can produce robust features and thus improve the recognition accuracy remarkably because it's orientation-independent. And by looking at the graph below, the change in acceleration is very clearly represented by the jerk data.\n",
    "\n",
    "http://ieeexplore.ieee.org/document/6121760/\n",
    "\n",
    "![Jerk vs Acceleration](https://upload.wikimedia.org/wikipedia/commons/thumb/4/43/Schematic_diagram_of_Jerk%2C_Acceleration%2C_and_Speed.svg/720px-Schematic_diagram_of_Jerk%2C_Acceleration%2C_and_Speed.svg.png\n",
    ")\n",
    "\n"
   ]
  },
  {
   "cell_type": "code",
   "execution_count": 27,
   "metadata": {
    "collapsed": true
   },
   "outputs": [],
   "source": [
    "features_no_jerk = [x for x in features_remove_gravity if \"jerk\" not in x.lower() and \"mag\" not in x.lower()]"
   ]
  },
  {
   "cell_type": "code",
   "execution_count": 28,
   "metadata": {
    "collapsed": false
   },
   "outputs": [
    {
     "data": {
      "text/plain": [
       "240"
      ]
     },
     "execution_count": 28,
     "metadata": {},
     "output_type": "execute_result"
    }
   ],
   "source": [
    "len(features_no_jerk)"
   ]
  },
  {
   "cell_type": "markdown",
   "metadata": {},
   "source": [
    "263 features were removed."
   ]
  },
  {
   "cell_type": "code",
   "execution_count": 29,
   "metadata": {
    "collapsed": true
   },
   "outputs": [],
   "source": [
    "features_jerk = [x for x in features_remove_gravity if \"jerk\" in x.lower()]"
   ]
  },
  {
   "cell_type": "code",
   "execution_count": 30,
   "metadata": {
    "collapsed": false
   },
   "outputs": [
    {
     "data": {
      "text/plain": [
       "211"
      ]
     },
     "execution_count": 30,
     "metadata": {},
     "output_type": "execute_result"
    }
   ],
   "source": [
    "len(features_jerk)"
   ]
  },
  {
   "cell_type": "markdown",
   "metadata": {},
   "source": [
    "1. \n",
    "2. \n",
    "3. Now I want to separate FFT data with original signals\n",
    "\n",
    "\n",
    "Fourier analysis converts a signal from its original domain (often time or space) to a representation in the frequency domain and vice versa. "
   ]
  },
  {
   "cell_type": "code",
   "execution_count": 299,
   "metadata": {
    "collapsed": true
   },
   "outputs": [],
   "source": [
    "features_nojerk_t = [x for x in features_no_jerk if x.startswith(\"t\")]\n",
    "features_nojerk_f = [x for x in features_no_jerk if x.startswith(\"f\")]\n",
    "features_jerk_t = [x for x in features_jerk if x.startswith(\"t\")]\n",
    "features_jerk_f = [x for x in features_jerk if x.startswith(\"f\")]"
   ]
  },
  {
   "cell_type": "code",
   "execution_count": 300,
   "metadata": {
    "collapsed": false
   },
   "outputs": [
    {
     "data": {
      "text/plain": [
       "(80, 158, 106, 105)"
      ]
     },
     "execution_count": 300,
     "metadata": {},
     "output_type": "execute_result"
    }
   ],
   "source": [
    "len(features_nojerk_t), len(features_nojerk_f), len(features_jerk_t), len(features_jerk_f)"
   ]
  },
  {
   "cell_type": "markdown",
   "metadata": {},
   "source": [
    "Now let's create the 4 different feature set training & testing datasets."
   ]
  },
  {
   "cell_type": "code",
   "execution_count": 301,
   "metadata": {
    "collapsed": true
   },
   "outputs": [],
   "source": [
    "all_nojerk_t = train_all[features_nojerk_t]"
   ]
  },
  {
   "cell_type": "code",
   "execution_count": 306,
   "metadata": {
    "collapsed": false
   },
   "outputs": [
    {
     "data": {
      "text/plain": [
       "numpy.ndarray"
      ]
     },
     "execution_count": 306,
     "metadata": {},
     "output_type": "execute_result"
    }
   ],
   "source": [
    "type(X_train_sedentary)"
   ]
  },
  {
   "cell_type": "code",
   "execution_count": 313,
   "metadata": {
    "collapsed": false
   },
   "outputs": [
    {
     "data": {
      "text/plain": [
       "(3090, 78)"
      ]
     },
     "execution_count": 313,
     "metadata": {},
     "output_type": "execute_result"
    }
   ],
   "source": [
    "# Split into variables and labels\n",
    "# No Jerk Time Data\n",
    "X_train_nojerk_t = train[features_nojerk_t].iloc[:, :-2].values\n",
    "y_train_nojerk_t = train[features_nojerk_t].iloc[:,-2].values\n",
    "\n",
    "X_test_nojerk_t = test[features_nojerk_t].iloc[:, :-2].values\n",
    "y_test_nojerk_t = test[features_nojerk_t].iloc[:,-2].values"
   ]
  },
  {
   "cell_type": "code",
   "execution_count": 314,
   "metadata": {
    "collapsed": true
   },
   "outputs": [],
   "source": [
    "# features\n",
    "X_train_sedentary_nojerk_t = X_train_nojerk_t[train_sedentary_ind, :]\n",
    "X_train_moving_nojerk_t = X_train_nojerk_t[train_moving_ind, :]\n",
    "\n",
    "X_test_sedentary_nojerk_t = X_test_nojerk_t[test_sedentary_ind, :]\n",
    "X_test_moving_nojerk_t = X_test_nojerk_t[test_moving_ind, :]"
   ]
  },
  {
   "cell_type": "code",
   "execution_count": 315,
   "metadata": {
    "collapsed": true
   },
   "outputs": [],
   "source": [
    "# labels\n",
    "y_train_sedentary_nojerk_t = y_train_nojerk_t[train_sedentary_ind]\n",
    "y_train_moving_nojerk_t = y_train_nojerk_t[train_moving_ind]\n",
    "\n",
    "y_test_sedentary_nojerk_t = y_test_nojerk_t[test_sedentary_ind]\n",
    "y_test_moving_nojerk_t = y_test_nojerk_t[test_moving_ind]"
   ]
  },
  {
   "cell_type": "code",
   "execution_count": 316,
   "metadata": {
    "collapsed": true
   },
   "outputs": [],
   "source": [
    "# No jerk frequency data\n",
    "X_train_nojerk_f = train[features_nojerk_f].iloc[:, :-2].values\n",
    "y_train_nojerk_f = train[features_nojerk_f].iloc[:,-2].values\n",
    "\n",
    "X_test_nojerk_f = test[features_nojerk_f].iloc[:, :-2].values\n",
    "y_test_nojerk_f = test[features_nojerk_f].iloc[:,-2].values\n",
    "\n",
    "# features\n",
    "X_train_sedentary_nojerk_f = X_train_nojerk_f[train_sedentary_ind, :]\n",
    "X_train_moving_nojerk_f = X_train_nojerk_f[train_moving_ind, :]\n",
    "\n",
    "X_test_sedentary_nojerk_f = X_test_nojerk_f[test_sedentary_ind, :]\n",
    "X_test_moving_nojerk_f = X_test_nojerk_f[test_moving_ind, :]\n",
    "\n",
    "# labels\n",
    "y_train_sedentary_nojerk_f = y_train_nojerk_f[train_sedentary_ind]\n",
    "y_train_moving_nojerk_f = y_train_nojerk_f[train_moving_ind]\n",
    "\n",
    "y_test_sedentary_nojerk_f = y_test_nojerk_f[test_sedentary_ind]\n",
    "y_test_moving_nojerk_f = y_test_nojerk_f[test_moving_ind]"
   ]
  },
  {
   "cell_type": "code",
   "execution_count": 318,
   "metadata": {
    "collapsed": true
   },
   "outputs": [],
   "source": [
    "#  jerk time data\n",
    "X_train_jerk_t = train[features_jerk_t].iloc[:, :-2].values\n",
    "y_train_jerk_t = train[features_jerk_t].iloc[:,-2].values\n",
    "\n",
    "X_test_jerk_t = test[features_jerk_t].iloc[:, :-2].values\n",
    "y_test_jerk_t = test[features_jerk_t].iloc[:,-2].values\n",
    "\n",
    "# features\n",
    "X_train_sedentary_jerk_t = X_train_jerk_t[train_sedentary_ind, :]\n",
    "X_train_moving_jerk_t = X_train_jerk_t[train_moving_ind, :]\n",
    "\n",
    "X_test_sedentary_jerk_t = X_test_jerk_t[test_sedentary_ind, :]\n",
    "X_test_moving_jerk_t = X_test_jerk_t[test_moving_ind, :]\n",
    "\n",
    "# labels\n",
    "y_train_sedentary_jerk_t = y_train_jerk_t[train_sedentary_ind]\n",
    "y_train_moving_jerk_t = y_train_jerk_t[train_moving_ind]\n",
    "\n",
    "y_test_sedentary_jerk_t = y_test_jerk_t[test_sedentary_ind]\n",
    "y_test_moving_jerk_t = y_test_jerk_t[test_moving_ind]"
   ]
  },
  {
   "cell_type": "code",
   "execution_count": 317,
   "metadata": {
    "collapsed": true
   },
   "outputs": [],
   "source": [
    "#  jerk frequency data\n",
    "X_train_jerk_f = train[features_jerk_f].iloc[:, :-2].values\n",
    "y_train_jerk_f = train[features_jerk_f].iloc[:,-2].values\n",
    "\n",
    "X_test_jerk_f = test[features_jerk_f].iloc[:, :-2].values\n",
    "y_test_jerk_f = test[features_jerk_f].iloc[:,-2].values\n",
    "\n",
    "# features\n",
    "X_train_sedentary_jerk_f = X_train_jerk_f[train_sedentary_ind, :]\n",
    "X_train_moving_jerk_f = X_train_jerk_f[train_moving_ind, :]\n",
    "\n",
    "X_test_sedentary_jerk_f = X_test_jerk_f[test_sedentary_ind, :]\n",
    "X_test_moving_jerk_f = X_test_jerk_f[test_moving_ind, :]\n",
    "\n",
    "# labels\n",
    "y_train_sedentary_jerk_f = y_train_jerk_f[train_sedentary_ind]\n",
    "y_train_moving_jerk_f = y_train_jerk_f[train_moving_ind]\n",
    "\n",
    "y_test_sedentary_jerk_f = y_test_jerk_f[test_sedentary_ind]\n",
    "y_test_moving_jerk_f = y_test_jerk_f[test_moving_ind]"
   ]
  },
  {
   "cell_type": "code",
   "execution_count": null,
   "metadata": {
    "collapsed": true
   },
   "outputs": [],
   "source": []
  },
  {
   "cell_type": "markdown",
   "metadata": {},
   "source": [
    "### 2. Feature Selection Algorithms\n",
    "\n",
    "- LinearSVC for moving data"
   ]
  },
  {
   "cell_type": "markdown",
   "metadata": {},
   "source": [
    "\n",
    "\n",
    "We can see from here that we are facing a very different problem as we were having before. We have way too many features (563) for our model to avoid overfitting and generalize well in the test set. So we need to perform some feature selection/engineering before fed all of them into a model.\n",
    "\n",
    "It also right in our intuitions because the sensors put on the same spot on yor left & right legs may have very similar readings but a delay in time. (if your walking is symmetric enough) It would be redundant to include all of the counterpairs. \n"
   ]
  },
  {
   "cell_type": "code",
   "execution_count": 82,
   "metadata": {
    "collapsed": false
   },
   "outputs": [
    {
     "data": {
      "text/plain": [
       "(3259, 119)"
      ]
     },
     "execution_count": 82,
     "metadata": {},
     "output_type": "execute_result"
    }
   ],
   "source": [
    "from sklearn.svm import LinearSVC\n",
    "from sklearn.feature_selection import SelectFromModel\n",
    "\n",
    "lsvc = LinearSVC(C=0.01, penalty=\"l1\", dual=False).fit(X_train_moving, y_train_moving)\n",
    "lsvc = SelectFromModel(lsvc, prefit=True)\n",
    "X_train_moving_svc = lsvc.transform(X_train_moving)\n",
    "X_train_moving_svc.shape"
   ]
  },
  {
   "cell_type": "markdown",
   "metadata": {},
   "source": [
    "\n",
    "The linearSVC model selected 119 features out of 562, roughly 20% of them."
   ]
  },
  {
   "cell_type": "code",
   "execution_count": 83,
   "metadata": {
    "collapsed": true
   },
   "outputs": [],
   "source": [
    "X_test_moving_svc = lsvc.transform(X_test_moving)"
   ]
  },
  {
   "cell_type": "markdown",
   "metadata": {},
   "source": [
    "- LinearSVC for sedentary data\n",
    "\n",
    "Let's do the same feature selection for sedentary data."
   ]
  },
  {
   "cell_type": "code",
   "execution_count": 84,
   "metadata": {
    "collapsed": false
   },
   "outputs": [
    {
     "data": {
      "text/plain": [
       "(3950, 159)"
      ]
     },
     "execution_count": 84,
     "metadata": {},
     "output_type": "execute_result"
    }
   ],
   "source": [
    "from sklearn.svm import LinearSVC\n",
    "from sklearn.feature_selection import SelectFromModel\n",
    "\n",
    "lsvc = LinearSVC(C=0.01, penalty=\"l1\", dual=False).fit(X_train_sedentary, y_train_sedentary)\n",
    "lsvc = SelectFromModel(lsvc, prefit=True)\n",
    "X_train_sedentary_svc = lsvc.transform(X_train_sedentary)\n",
    "X_train_sedentary_svc.shape"
   ]
  },
  {
   "cell_type": "code",
   "execution_count": 85,
   "metadata": {
    "collapsed": true
   },
   "outputs": [],
   "source": [
    "X_test_sedentary_svc = lsvc.transform(X_test_sedentary)"
   ]
  },
  {
   "cell_type": "markdown",
   "metadata": {},
   "source": [
    "For sedentary data, our feature selection algorithm has chosen 159 features, roughly 33% more than moving data, which means that sedentary records have less variance and share less correlations."
   ]
  },
  {
   "cell_type": "markdown",
   "metadata": {},
   "source": [
    "- Select K Best\n"
   ]
  },
  {
   "cell_type": "markdown",
   "metadata": {},
   "source": [
    "- Mutual Information Feature Selection\n",
    "\n",
    "Parallelized Mutual Information based Feature Selection module.\n",
    "\n",
    "http://danielhomola.com/2016/01/31/mifs-parallelized-mutual-information-based-feature-selection-module/\n",
    "\n",
    "maximam joint mutual information"
   ]
  },
  {
   "cell_type": "code",
   "execution_count": 373,
   "metadata": {
    "collapsed": false
   },
   "outputs": [
    {
     "ename": "AttributeError",
     "evalue": "'module' object has no attribute 'BaseMrmr'",
     "output_type": "error",
     "traceback": [
      "\u001b[0;31m---------------------------------------------------------------------------\u001b[0m",
      "\u001b[0;31mAttributeError\u001b[0m                            Traceback (most recent call last)",
      "\u001b[0;32m<ipython-input-373-efcc3da9f778>\u001b[0m in \u001b[0;36m<module>\u001b[0;34m()\u001b[0m\n\u001b[1;32m      1\u001b[0m \u001b[0;32mimport\u001b[0m \u001b[0mmrmr\u001b[0m\u001b[0;34m\u001b[0m\u001b[0m\n\u001b[0;32m----> 2\u001b[0;31m \u001b[0mmrmr\u001b[0m\u001b[0;34m.\u001b[0m\u001b[0mBaseMrmr\u001b[0m\u001b[0;34m\u001b[0m\u001b[0m\n\u001b[0m\u001b[1;32m      3\u001b[0m \u001b[0;34m\u001b[0m\u001b[0m\n",
      "\u001b[0;31mAttributeError\u001b[0m: 'module' object has no attribute 'BaseMrmr'"
     ]
    }
   ],
   "source": [
    "import mrmr"
   ]
  },
  {
   "cell_type": "code",
   "execution_count": 362,
   "metadata": {
    "collapsed": false
   },
   "outputs": [
    {
     "ename": "ImportError",
     "evalue": "No module named mifs",
     "output_type": "error",
     "traceback": [
      "\u001b[0;31m---------------------------------------------------------------------------\u001b[0m",
      "\u001b[0;31mImportError\u001b[0m                               Traceback (most recent call last)",
      "\u001b[0;32m<ipython-input-362-4fc772aec81c>\u001b[0m in \u001b[0;36m<module>\u001b[0;34m()\u001b[0m\n\u001b[0;32m----> 1\u001b[0;31m \u001b[0;32mimport\u001b[0m \u001b[0mmifs\u001b[0m\u001b[0;34m\u001b[0m\u001b[0m\n\u001b[0m\u001b[1;32m      2\u001b[0m \u001b[0;31m# define MI_FS feature selection method\u001b[0m\u001b[0;34m\u001b[0m\u001b[0;34m\u001b[0m\u001b[0m\n\u001b[1;32m      3\u001b[0m \u001b[0mfeat_selector\u001b[0m \u001b[0;34m=\u001b[0m \u001b[0mmifs\u001b[0m\u001b[0;34m.\u001b[0m\u001b[0mMutualInformationFeatureSelector\u001b[0m\u001b[0;34m(\u001b[0m\u001b[0;34m)\u001b[0m\u001b[0;34m\u001b[0m\u001b[0m\n\u001b[1;32m      4\u001b[0m \u001b[0;34m\u001b[0m\u001b[0m\n\u001b[1;32m      5\u001b[0m \u001b[0;31m# find all relevant features\u001b[0m\u001b[0;34m\u001b[0m\u001b[0;34m\u001b[0m\u001b[0m\n",
      "\u001b[0;31mImportError\u001b[0m: No module named mifs"
     ]
    }
   ],
   "source": [
    "import mifs\n",
    "# define MI_FS feature selection method\n",
    "feat_selector = mifs.MutualInformationFeatureSelector()\n",
    "\n",
    "# find all relevant features\n",
    "feat_selector.fit(X_train_moving, y_train_moving)\n",
    "\n",
    "# check selected features\n",
    "feat_selector.support_\n",
    "\n",
    "# call transform() on X to filter it down to selected features\n",
    "X_train_moving_mifs = feat_selector.transform(X_train_moving)\n",
    "X_test_moving_mifs = feat_selector.transform(X_test_moving)"
   ]
  },
  {
   "cell_type": "markdown",
   "metadata": {},
   "source": [
    "Note: Sequential Forward Selection (SFS): experimented, but takes a very long time to select larger amount of features\n",
    "\n",
    "- PCA for moving data"
   ]
  },
  {
   "cell_type": "code",
   "execution_count": 55,
   "metadata": {
    "collapsed": true
   },
   "outputs": [],
   "source": [
    "from sklearn.decomposition import PCA\n",
    "pca = PCA(n_components=100, svd_solver='full')\n",
    "X_train_moving_pca = pca.fit_transform(X_train_moving)  \n",
    "X_test_moving_pca = pca.transform(X_test_moving)  "
   ]
  },
  {
   "cell_type": "markdown",
   "metadata": {},
   "source": [
    "- PCA for sedentary data"
   ]
  },
  {
   "cell_type": "code",
   "execution_count": 75,
   "metadata": {
    "collapsed": true
   },
   "outputs": [],
   "source": [
    "from sklearn.decomposition import PCA\n",
    "pca = PCA(n_components=100, svd_solver='full')\n",
    "X_train_sedentary_pca = pca.fit_transform(X_train_sedentary)  \n",
    "X_test_sedentary_pca = pca.transform(X_test_sedentary)"
   ]
  },
  {
   "cell_type": "code",
   "execution_count": 170,
   "metadata": {
    "collapsed": false
   },
   "outputs": [
    {
     "data": {
      "text/plain": [
       "(3890, 170)"
      ]
     },
     "execution_count": 170,
     "metadata": {},
     "output_type": "execute_result"
    }
   ],
   "source": [
    "from sklearn.svm import LinearSVC\n",
    "from sklearn.feature_selection import SelectFromModel\n",
    "\n",
    "lsvc = LinearSVC(C=0.01, penalty=\"l1\", dual=False).fit(X_train_sedentary, y_train_sedentary)\n",
    "lsvc = SelectFromModel(lsvc, prefit=True)\n",
    "X_train_sedentary_new = lsvc.transform(X_train_sedentary)\n",
    "X_train_sedentary_new.shape"
   ]
  },
  {
   "cell_type": "markdown",
   "metadata": {},
   "source": [
    "### Normalization\n",
    "\n",
    "Our data was already normalized to the range [-1, 1] so that would be all for the preprocessing so far."
   ]
  },
  {
   "cell_type": "markdown",
   "metadata": {},
   "source": [
    "## Modeling - Moving"
   ]
  },
  {
   "cell_type": "markdown",
   "metadata": {},
   "source": [
    "### Choice of Models\n",
    "\n",
    "As discussed in a literature review of Human Activity Recognition studies, different models including decision trees, KNN, HMM, SVM have been used and it's not fully clear yet which approach performs better. I would like to explore different methods on different feature sets I have chosen and see what the results are like.\n",
    "\n",
    "“Frequentist and Bayesian models have been well covered throughout HAR literature, they involve predictive models such as binary decision trees and threshold-based classifiers, geometric approaches including K-Nearest Neighbors (KNN), Artificial Neural Networks (ANN) and Sup- port Vector Machines (SVM), and probabilistic classification methods as for example Naive Bayes classifiers, and Hidden Markov Models (HMM).\n",
    "\n",
    "It is not fully clear which ML approach performs better for HAR as many of them have demonstrated comparable performance in different works. The op- timal classification method is generally application-specific and aspects such as the recognition performance, energy consumption, memory requirements and com- putational complexity become deciding factors. For instance decision trees could be preferred when the model interpretability is required and SVMs for high performance applications. Continuous work in regards to computational cost reductions have con- stantly been studied such as modified efficient implementations of the ML algorithms as proposed in, where a purely fixed-point arithmetic approach for HAR using SVMs was presented.”\n",
    "\n",
    "\n",
    "Human Activity and Motion Disorder Recognition: Towards Smarter Interactive Cognitive Environments\n",
    "Jorge L. Reyes-Ortiz1,2, Alessandro Ghio1, Davide Anguita1, Xavier Parra2, Joan Cabestany2, Andreu Catala`2\n",
    "1- Universita` degli Studi di Genova - DITEN. Via Opera Pia 11A, I-16145, Genoa, Italy.\n",
    "2- Universitat Polite`cnica de Catalunya - CETpD Rambla de l’Exposicio ́ 59-69, 08800, Vilanova i la Geltru ́, Spain.\n"
   ]
  },
  {
   "cell_type": "markdown",
   "metadata": {},
   "source": [
    "### Baseline - Randomly Guessing\n",
    "\n",
    "This is a baseline because by intuition any other informed classifier outperform this classifier."
   ]
  },
  {
   "cell_type": "code",
   "execution_count": 188,
   "metadata": {
    "collapsed": true
   },
   "outputs": [],
   "source": [
    "from random import randint\n",
    "rand_pred_moving = []\n",
    "for x in X_test_moving_new:\n",
    "    # generate a random number between 1 and 30 (including 1 & 30)\n",
    "    rand_pred_moving.append(randint(1, 31))\n",
    "rand_pred_moving = np.asarray(rand_pred_moving)"
   ]
  },
  {
   "cell_type": "code",
   "execution_count": 209,
   "metadata": {
    "collapsed": false
   },
   "outputs": [
    {
     "data": {
      "text/plain": [
       "0.028085735402808575"
      ]
     },
     "execution_count": 209,
     "metadata": {},
     "output_type": "execute_result"
    }
   ],
   "source": [
    "rand_res = [1 if a == b else 0 for a, b in zip(rand_pred_moving, y_test_moving)]\n",
    "rand_acc = float(sum(rand_res))/len(rand_res)\n",
    "rand_acc"
   ]
  },
  {
   "cell_type": "markdown",
   "metadata": {},
   "source": [
    "So randomly predicting almost failed the job, with only 3% accuracy."
   ]
  },
  {
   "cell_type": "code",
   "execution_count": 53,
   "metadata": {
    "collapsed": true
   },
   "outputs": [],
   "source": [
    "from sklearn import linear_model\n",
    "from sklearn.tree import DecisionTreeClassifier\n",
    "from sklearn.ensemble import RandomForestClassifier,GradientBoostingClassifier\n",
    "from sklearn.naive_bayes import GaussianNB\n",
    "from sklearn import svm\n",
    "\n",
    "Classifiers = [linear_model.LogisticRegression(multi_class=\"ovr\"),\n",
    "               DecisionTreeClassifier(), \n",
    "               RandomForestClassifier(n_estimators=200),\n",
    "               GaussianNB(), \n",
    "               svm.SVC()]"
   ]
  },
  {
   "cell_type": "code",
   "execution_count": 86,
   "metadata": {
    "collapsed": false
   },
   "outputs": [
    {
     "name": "stdout",
     "output_type": "stream",
     "text": [
      "finished training for LogisticRegression\n",
      "finished training for DecisionTreeClassifier\n",
      "finished training for RandomForestClassifier\n",
      "finished training for GaussianNB\n",
      "finished training for SVC\n"
     ]
    }
   ],
   "source": [
    "from sklearn.metrics import accuracy_score\n",
    "from time import time\n",
    "model = []\n",
    "accuracy = []\n",
    "train_time = []\n",
    "pred_time = []\n",
    "\n",
    "for clf in Classifiers:\n",
    "    start = time()\n",
    "    fit=clf.fit(X_train_moving_svc, y_train_moving)\n",
    "    end = time()\n",
    "    train_time.append(end - start)\n",
    "    start = time()\n",
    "    pred=fit.predict(X_test_moving_svc)\n",
    "    end = time()\n",
    "    pred_time.append(end - start)\n",
    "    model.append(clf.__class__.__name__)\n",
    "    accuracy.append(accuracy_score(y_test_moving,pred))\n",
    "    print \"finished training for SVC features using \" + clf.__class__.__name__\n"
   ]
  },
  {
   "cell_type": "code",
   "execution_count": 87,
   "metadata": {
    "collapsed": true
   },
   "outputs": [],
   "source": [
    "# Give shorter name for plotting \n",
    "model = ['LR', 'DT', 'RF', 'GNB', 'SVM']"
   ]
  },
  {
   "cell_type": "code",
   "execution_count": 88,
   "metadata": {
    "collapsed": false
   },
   "outputs": [
    {
     "name": "stdout",
     "output_type": "stream",
     "text": [
      "finished training for PCA features using LogisticRegression\n",
      "finished training for PCA features using DecisionTreeClassifier\n",
      "finished training for PCA features using RandomForestClassifier\n",
      "finished training for PCA features using GaussianNB\n",
      "finished training for PCA features using SVC\n"
     ]
    }
   ],
   "source": [
    "from sklearn.metrics import accuracy_score\n",
    "from time import time\n",
    "\n",
    "pca_accuracy = []\n",
    "pca_train_time = []\n",
    "pca_pred_time = []\n",
    "\n",
    "for clf in Classifiers:\n",
    "    start = time()\n",
    "    fit=clf.fit(X_train_moving_pca, y_train_moving)\n",
    "    end = time()\n",
    "    pca_train_time.append(end - start)\n",
    "    start = time()\n",
    "    pred=fit.predict(X_test_moving_pca)\n",
    "    end = time()\n",
    "    pca_pred_time.append(end - start)\n",
    "    pca_accuracy.append(accuracy_score(y_test_moving, pred))\n",
    "    print \"finished training for PCA features using \" + clf.__class__.__name__\n"
   ]
  },
  {
   "cell_type": "code",
   "execution_count": 89,
   "metadata": {
    "collapsed": true
   },
   "outputs": [],
   "source": [
    "# Give shorter name for plotting \n",
    "model = ['LR', 'DT', 'RF', 'GNB', 'SVM']"
   ]
  },
  {
   "cell_type": "code",
   "execution_count": 91,
   "metadata": {
    "collapsed": false
   },
   "outputs": [
    {
     "data": {
      "image/png": "[encoded data removed]",
      "text/plain": [
       "<matplotlib.figure.Figure at 0x12733c290>"
      ]
     },
     "metadata": {},
     "output_type": "display_data"
    }
   ],
   "source": [
    "# Plot the accuracy for each classifier\n",
    "\n",
    "fig, ax = plt.subplots()\n",
    "\n",
    "index = np.arange(len(model))\n",
    "bar_width = 0.35\n",
    "opacity = 0.4\n",
    "error_config = {'ecolor': '0.3'}\n",
    "\n",
    "rects1 = plt.bar(index, accuracy, bar_width,\n",
    "                 alpha=opacity,\n",
    "                 color='b',\n",
    "                 error_kw=error_config,\n",
    "                 label='LinearSVC')\n",
    "\n",
    "rects2 = plt.bar(index + bar_width, pca_accuracy, bar_width,\n",
    "                 alpha=opacity,\n",
    "                 color='r',\n",
    "                 error_kw=error_config,\n",
    "                 label='PCA')\n",
    "\n",
    "plt.xlabel('Models')\n",
    "plt.ylabel('Accuracy')\n",
    "plt.title('Accuracy by model and feature selection method')\n",
    "plt.xticks(index + bar_width / 2, ('LR', 'DT', 'RF', 'GNB', 'SVM'))\n",
    "plt.legend()\n",
    "\n",
    "plt.tight_layout()"
   ]
  },
  {
   "cell_type": "code",
   "execution_count": 71,
   "metadata": {
    "collapsed": false
   },
   "outputs": [
    {
     "data": {
      "image/png": "[encoded data removed]",
      "text/plain": [
       "<matplotlib.figure.Figure at 0x12ca69fd0>"
      ]
     },
     "metadata": {},
     "output_type": "display_data"
    }
   ],
   "source": [
    "# Plot the training time for each classifier\n",
    "fig, ax = plt.subplots()\n",
    "\n",
    "index = np.arange(len(model))\n",
    "bar_width = 0.35\n",
    "opacity = 0.4\n",
    "error_config = {'ecolor': '0.3'}\n",
    "\n",
    "rects1 = plt.bar(index, train_time, bar_width,\n",
    "                 alpha=opacity,\n",
    "                 color='b',\n",
    "                 error_kw=error_config,\n",
    "                 label='LinearSVC')\n",
    "\n",
    "rects2 = plt.bar(index + bar_width, pca_train_time, bar_width,\n",
    "                 alpha=opacity,\n",
    "                 color='r',\n",
    "                 error_kw=error_config,\n",
    "                 label='PCA')\n",
    "\n",
    "plt.xlabel('Models')\n",
    "plt.ylabel('Training Time (s)')\n",
    "plt.title('Training Time by model and feature selection method')\n",
    "plt.xticks(index + bar_width / 2, ('LR', 'DT', 'RF', 'GNB', 'SVM'))\n",
    "plt.legend()\n",
    "\n",
    "plt.tight_layout()\n",
    "\n"
   ]
  },
  {
   "cell_type": "code",
   "execution_count": 73,
   "metadata": {
    "collapsed": false
   },
   "outputs": [
    {
     "data": {
      "image/png": "[encoded data removed]",
      "text/plain": [
       "<matplotlib.figure.Figure at 0x12cbb0f50>"
      ]
     },
     "metadata": {},
     "output_type": "display_data"
    }
   ],
   "source": [
    "# Plot the prediction time for each classifier\n",
    "fig, ax = plt.subplots()\n",
    "\n",
    "index = np.arange(len(model))\n",
    "bar_width = 0.35\n",
    "opacity = 0.4\n",
    "error_config = {'ecolor': '0.3'}\n",
    "\n",
    "rects1 = plt.bar(index, pred_time, bar_width,\n",
    "                 alpha=opacity,\n",
    "                 color='b',\n",
    "                 error_kw=error_config,\n",
    "                 label='LinearSVC')\n",
    "\n",
    "rects2 = plt.bar(index + bar_width, pca_pred_time, bar_width,\n",
    "                 alpha=opacity,\n",
    "                 color='r',\n",
    "                 error_kw=error_config,\n",
    "                 label='PCA')\n",
    "\n",
    "plt.xlabel('Models')\n",
    "plt.ylabel('Prediction Time (s)')\n",
    "plt.title('Prediction Time by model and feature selection method')\n",
    "plt.xticks(index + bar_width / 2, ('LR', 'DT', 'RF', 'GNB', 'SVM'))\n",
    "plt.legend()\n",
    "\n",
    "plt.tight_layout()\n",
    "\n"
   ]
  },
  {
   "cell_type": "markdown",
   "metadata": {},
   "source": [
    "## Conclusions\n",
    "\n"
   ]
  },
  {
   "cell_type": "markdown",
   "metadata": {},
   "source": [
    "And we can see here, with similar performance results, linear regression and random forest are much faster than gradient boosting in training and predicting. Linear regression is also faster than random forest for prediction."
   ]
  },
  {
   "cell_type": "markdown",
   "metadata": {},
   "source": [
    "### Manually selected features modeling"
   ]
  },
  {
   "cell_type": "code",
   "execution_count": null,
   "metadata": {
    "collapsed": true
   },
   "outputs": [],
   "source": []
  },
  {
   "cell_type": "code",
   "execution_count": null,
   "metadata": {
    "collapsed": true
   },
   "outputs": [],
   "source": []
  },
  {
   "cell_type": "code",
   "execution_count": null,
   "metadata": {
    "collapsed": true
   },
   "outputs": [],
   "source": []
  },
  {
   "cell_type": "markdown",
   "metadata": {},
   "source": [
    "## Modeling - Sedentary\n",
    "\n",
    "\n",
    "### Baseline - Randomly guessing"
   ]
  },
  {
   "cell_type": "code",
   "execution_count": 178,
   "metadata": {
    "collapsed": true
   },
   "outputs": [],
   "source": [
    "from random import randint\n",
    "rand_pred_sedentary = []\n",
    "for x in X_test_sedentary_new:\n",
    "    # generate a random number between 1 and 30 (including 1 & 30)\n",
    "    rand_pred_sedentary.append(randint(1, 31))\n",
    "rand_pred_sedentary = np.asarray(rand_pred_sedentary)"
   ]
  },
  {
   "cell_type": "code",
   "execution_count": 186,
   "metadata": {
    "collapsed": true
   },
   "outputs": [],
   "source": [
    "res = [1 if a == b else 0 for a, b in zip(rand_pred_sedentary, y_test_sedentary)]"
   ]
  },
  {
   "cell_type": "code",
   "execution_count": 187,
   "metadata": {
    "collapsed": false
   },
   "outputs": [
    {
     "data": {
      "text/plain": [
       "0.02936096718480138"
      ]
     },
     "execution_count": 187,
     "metadata": {},
     "output_type": "execute_result"
    }
   ],
   "source": [
    "acc = float(sum(res))/len(res)\n",
    "acc"
   ]
  },
  {
   "cell_type": "markdown",
   "metadata": {},
   "source": [
    "The result for randomly predicting is also around 3%, similar to moving ones, as expected.\n",
    "\n",
    "Now let's try the same classifiers we tried with moving data."
   ]
  },
  {
   "cell_type": "code",
   "execution_count": 92,
   "metadata": {
    "collapsed": false
   },
   "outputs": [
    {
     "name": "stdout",
     "output_type": "stream",
     "text": [
      "finished training for SVC features using LogisticRegression\n",
      "finished training for SVC features using DecisionTreeClassifier\n",
      "finished training for SVC features using RandomForestClassifier\n",
      "finished training for SVC features using GaussianNB\n",
      "finished training for SVC features using SVC\n"
     ]
    }
   ],
   "source": [
    "model = []\n",
    "accuracy = []\n",
    "train_time = []\n",
    "pred_time = []\n",
    "\n",
    "for clf in Classifiers:\n",
    "    start = time()\n",
    "    fit=clf.fit(X_train_sedentary_svc, y_train_sedentary)\n",
    "    end = time()\n",
    "    train_time.append(end - start)\n",
    "    start = time()\n",
    "    pred=fit.predict(X_test_sedentary_svc)\n",
    "    end = time()\n",
    "    pred_time.append(end - start)\n",
    "    model.append(clf.__class__.__name__)\n",
    "    accuracy.append(accuracy_score(y_test_sedentary, pred))\n",
    "    print \"finished training for SVC features using \" + clf.__class__.__name__"
   ]
  },
  {
   "cell_type": "code",
   "execution_count": 93,
   "metadata": {
    "collapsed": false
   },
   "outputs": [
    {
     "data": {
      "text/plain": [
       "['LogisticRegression',\n",
       " 'DecisionTreeClassifier',\n",
       " 'RandomForestClassifier',\n",
       " 'GaussianNB',\n",
       " 'SVC']"
      ]
     },
     "execution_count": 93,
     "metadata": {},
     "output_type": "execute_result"
    }
   ],
   "source": [
    "model"
   ]
  },
  {
   "cell_type": "code",
   "execution_count": 94,
   "metadata": {
    "collapsed": true
   },
   "outputs": [],
   "source": [
    "model = ['LR', 'DT', 'RF', 'GNB', 'SVM']"
   ]
  },
  {
   "cell_type": "code",
   "execution_count": 98,
   "metadata": {
    "collapsed": false
   },
   "outputs": [
    {
     "name": "stdout",
     "output_type": "stream",
     "text": [
      "finished training for PCA features using LogisticRegression\n",
      "finished training for PCA features using DecisionTreeClassifier\n",
      "finished training for PCA features using RandomForestClassifier\n",
      "finished training for PCA features using GaussianNB\n",
      "finished training for PCA features using SVC\n"
     ]
    }
   ],
   "source": [
    "from sklearn.metrics import accuracy_score\n",
    "from time import time\n",
    "\n",
    "pca_accuracy = []\n",
    "pca_train_time = []\n",
    "pca_pred_time = []\n",
    "\n",
    "for clf in Classifiers:\n",
    "    start = time()\n",
    "    fit=clf.fit(X_train_sedentary_pca, y_train_sedentary)\n",
    "    end = time()\n",
    "    pca_train_time.append(end - start)\n",
    "    start = time()\n",
    "    pred=fit.predict(X_test_sedentary_pca)\n",
    "    end = time()\n",
    "    pca_pred_time.append(end - start)\n",
    "    pca_accuracy.append(accuracy_score(y_test_sedentary, pred))\n",
    "    print \"finished training for PCA features using \" + clf.__class__.__name__\n"
   ]
  },
  {
   "cell_type": "code",
   "execution_count": 99,
   "metadata": {
    "collapsed": false
   },
   "outputs": [
    {
     "data": {
      "image/png": "[encoded data removed]",
      "text/plain": [
       "<matplotlib.figure.Figure at 0x1166c0910>"
      ]
     },
     "metadata": {},
     "output_type": "display_data"
    }
   ],
   "source": [
    "# Plot the accuracy for each classifier\n",
    "\n",
    "fig, ax = plt.subplots()\n",
    "\n",
    "index = np.arange(len(model))\n",
    "bar_width = 0.35\n",
    "opacity = 0.4\n",
    "error_config = {'ecolor': '0.3'}\n",
    "\n",
    "rects1 = plt.bar(index, accuracy, bar_width,\n",
    "                 alpha=opacity,\n",
    "                 color='b',\n",
    "                 error_kw=error_config,\n",
    "                 label='LinearSVC')\n",
    "\n",
    "rects2 = plt.bar(index + bar_width, pca_accuracy, bar_width,\n",
    "                 alpha=opacity,\n",
    "                 color='r',\n",
    "                 error_kw=error_config,\n",
    "                 label='PCA')\n",
    "\n",
    "plt.xlabel('Models')\n",
    "plt.ylabel('Accuracy')\n",
    "plt.title('Accuracy by model and feature selection method')\n",
    "plt.xticks(index + bar_width / 2, ('LR', 'DT', 'RF', 'GNB', 'SVM'))\n",
    "plt.legend()\n",
    "\n",
    "plt.tight_layout()"
   ]
  },
  {
   "cell_type": "code",
   "execution_count": 100,
   "metadata": {
    "collapsed": false
   },
   "outputs": [
    {
     "data": {
      "image/png": "[encoded data removed]",
      "text/plain": [
       "<matplotlib.figure.Figure at 0x126f7c790>"
      ]
     },
     "metadata": {},
     "output_type": "display_data"
    }
   ],
   "source": [
    "# Plot the training time for each classifier\n",
    "fig, ax = plt.subplots()\n",
    "\n",
    "index = np.arange(len(model))\n",
    "bar_width = 0.35\n",
    "opacity = 0.4\n",
    "error_config = {'ecolor': '0.3'}\n",
    "\n",
    "rects1 = plt.bar(index, train_time, bar_width,\n",
    "                 alpha=opacity,\n",
    "                 color='b',\n",
    "                 error_kw=error_config,\n",
    "                 label='LinearSVC')\n",
    "\n",
    "rects2 = plt.bar(index + bar_width, pca_train_time, bar_width,\n",
    "                 alpha=opacity,\n",
    "                 color='r',\n",
    "                 error_kw=error_config,\n",
    "                 label='PCA')\n",
    "\n",
    "plt.xlabel('Models')\n",
    "plt.ylabel('Training Time (s)')\n",
    "plt.title('Training Time by model and feature selection method')\n",
    "plt.xticks(index + bar_width / 2, ('LR', 'DT', 'RF', 'GNB', 'SVM'))\n",
    "plt.legend()\n",
    "\n",
    "plt.tight_layout()\n",
    "\n"
   ]
  },
  {
   "cell_type": "code",
   "execution_count": 101,
   "metadata": {
    "collapsed": false
   },
   "outputs": [
    {
     "data": {
      "image/png": "[encoded data removed]",
      "text/plain": [
       "<matplotlib.figure.Figure at 0x1160b52d0>"
      ]
     },
     "metadata": {},
     "output_type": "display_data"
    }
   ],
   "source": [
    "# Plot the prediction time for each classifier\n",
    "fig, ax = plt.subplots()\n",
    "\n",
    "index = np.arange(len(model))\n",
    "bar_width = 0.35\n",
    "opacity = 0.4\n",
    "error_config = {'ecolor': '0.3'}\n",
    "\n",
    "rects1 = plt.bar(index, pred_time, bar_width,\n",
    "                 alpha=opacity,\n",
    "                 color='b',\n",
    "                 error_kw=error_config,\n",
    "                 label='LinearSVC')\n",
    "\n",
    "rects2 = plt.bar(index + bar_width, pca_pred_time, bar_width,\n",
    "                 alpha=opacity,\n",
    "                 color='r',\n",
    "                 error_kw=error_config,\n",
    "                 label='PCA')\n",
    "\n",
    "plt.xlabel('Models')\n",
    "plt.ylabel('Prediction Time (s)')\n",
    "plt.title('Prediction Time by model and feature selection method')\n",
    "plt.xticks(index + bar_width / 2, ('LR', 'DT', 'RF', 'GNB', 'SVM'))\n",
    "plt.legend()\n",
    "\n",
    "plt.tight_layout()\n",
    "\n"
   ]
  },
  {
   "cell_type": "markdown",
   "metadata": {},
   "source": [
    "## Conclusion\n",
    "\n",
    "So for sedentary data, the overall accuracies for our models drop to less than 70%.\n",
    "\n",
    "## Evaluation\n"
   ]
  },
  {
   "cell_type": "code",
   "execution_count": null,
   "metadata": {
    "collapsed": true
   },
   "outputs": [],
   "source": [
    "import matplotlib.pyplot as plt\n",
    "import numpy as np\n",
    "%matplotlib inline\n",
    "ind =  np.arange(3)   # the x locations for the groups\n",
    "width = 0.1       # the width of the bars\n",
    "fig, ax = plt.subplots()\n",
    "rects1 = ax.bar(ind, Out_Accuracy_1, width, color='r')\n",
    "rects2 = ax.bar(ind + width, Out_Accuracy_2, width, color='y')\n",
    "rects3 = ax.bar(ind + width + width ,Out_Accuracy_3, width, color='b')\n",
    "ax.set_ylabel('Accuracy')\n",
    "ax.set_title('Accuracy by Models and Selection Process')\n",
    "ax.set_xticks(ind + width)\n",
    "ax.set_xticklabels(Model_3,rotation=45)\n",
    "plt.show()"
   ]
  },
  {
   "cell_type": "markdown",
   "metadata": {},
   "source": [
    "### The Confusion Matrix"
   ]
  },
  {
   "cell_type": "markdown",
   "metadata": {},
   "source": [
    "Conclusion\n",
    "The feature selection can hugely decrease the running time of complicated model, without obviously jeopardizing the performance of model.\n",
    "\n",
    "The overall accuracy of the model will not be necessarily compromised by shrinking the size of the data set. The main reason is that good feature selection may prevent over-fitting to some extents."
   ]
  },
  {
   "cell_type": "markdown",
   "metadata": {},
   "source": [
    "## What I learned\n",
    "\n",
    "- Feature selection\n",
    "    - cheaper to measure, train, and predict\n",
    "    - improve accuracy by excluding irrelevant vairables\n",
    "    - More understandable for human"
   ]
  },
  {
   "cell_type": "markdown",
   "metadata": {},
   "source": [
    "## Self-check\n",
    "\n",
    "1. Dataset Augmentation\n",
    "\n",
    "- Generating the dataset by myself is limited by the time and equipment constraint\n",
    "- Accelerometer & force & marker data are all generated in lab setting with participants only walking at a certain speed. The data is too regular and the degree of freedom is too small to even need to be fed into a classifier. Simple linear threshold can do a good job of finding the local maxima and minima to identify Heel Strike and Toe Off events. And it's for sure that the model won't generalize well for outdoor real-life events.\n",
    "- So what may be more interesting from those datasets is the frequency analysis of the gait cycles. \n",
    "- The human activity dataset from Kaggle is better in both the complexity of activity types, it has already been labeled manually, by examining video clips \n",
    "\n",
    "I tried to contact the open-source MAREA gait database but haven't heard from them yet.\n",
    "\n",
    "2. Multiplicity of models\n",
    "\n",
    "I trained 3 models in parallel, however, they all use the same input, same attributes.\n",
    "\n",
    "-> foot force data for neural network \n",
    "\n",
    "\n",
    "3. Visualization\n",
    "\n",
    "\n",
    "\n",
    "4. Regularization\n",
    "\n",
    "Regularization cannot save me. "
   ]
  },
  {
   "cell_type": "markdown",
   "metadata": {},
   "source": [
    "## Limitations\n",
    "\n",
    "- Dataset\n",
    "  - No labels\n",
    "  - Normal walking and running in the sagittal plane on level ground\n",
    "    - May not generalize when the walking speed changes\n",
    "    - Haven't considered toe walkers\n",
    "  - Only acclerometer data was used. Potential features include:\n",
    "    - gyroscope data\n",
    "    - foot angular velocity data\n",
    "    - sensors on the shank, thigh and foot of both left & right side\n",
    "    - video captures\n",
    "  - Test on both healthy individuals and patients, different age groups\n",
    "- Models\n",
    "  - No ground truth values for HS and TO\n",
    "  - There is no scientific evaluation method, evaluation was done visually\n",
    "\n"
   ]
  },
  {
   "cell_type": "markdown",
   "metadata": {},
   "source": [
    "## References\n",
    "\n",
    "\n",
    "- Hebenstreit, F., Leibold, A., Krinner, S., Welsch, G., Lochmann, M., Eskofier, B.M. (2014) Are Relative Gait Phase Durations Speed Dependent?, submitted.\n",
    "\n",
    "- Gait Partitioning Methods: A Systematic Review \n",
    "https://www.ncbi.nlm.nih.gov/pmc/articles/PMC4732099/\n",
    "\n",
    "- Weijun Tao 1, Tao Liu 2,*, Rencheng Zheng 3 and Hutian Feng 1 Gait Analysis Using Wearable Sensors\n",
    "\n",
    "- Introduction of gait cycle https://www.physio-pedia.com/Gait\n",
    "\n",
    "- A Neural Network-Based Gait Phase Classification Method Using Sensors Equipped on Lower Limb Exoskeleton Robots\n",
    "\n",
    "- Davide Anguita, Alessandro Ghio, Luca Oneto, Xavier Parra and Jorge L. Reyes-Ortiz. Human Activity Recognition on Smartphones using a Multiclass Hardware-Friendly Support Vector Machine. International Workshop of Ambient Assisted Living (IWAAL 2012). Vitoria-Gasteiz, Spain. Dec 2012 https://www.icephd.org/sites/default/files/IWAAL2012.pdf\n",
    "\n",
    "- Davide Anguita, Alessandro Ghio, Luca Oneto, Xavier Parra, Jorge L. Reyes-Ortiz. Energy Efficient Smartphone-Based Activity Recognition using Fixed-Point Arithmetic. Journal of Universal Computer Science. Special Issue in Ambient Assisted Living: Home Care. Volume 19, Issue 9. May 2013 https://pdfs.semanticscholar.org/dc70/24840a4ba7ab634517fae53e77695ff5dda9.pdf\n",
    "\n",
    "- Jorge Luis Reyes-Ortiz, Alessandro Ghio, Xavier Parra-Llanas, Davide Anguita, Joan Cabestany, Andreu Català. Human Activity and Motion Disorder Recognition: Towards Smarter Interactive Cognitive Environments. 21st European Symposium on Artificial Neural Networks, Computational Intelligence and Machine Learning, ESANN 2013. Bruges, Belgium 24-26 April 2013. https://www.elen.ucl.ac.be/Proceedings/esann/esannpdf/es2013-11.pdf\n",
    "\n",
    "- [1] Reunanen, J. (2003). Overfitting in making comparisons between variable selection methods. The Journal of Machine Learning Research, 3, 1371-1382.\n"
   ]
  },
  {
   "cell_type": "code",
   "execution_count": null,
   "metadata": {
    "collapsed": true
   },
   "outputs": [],
   "source": []
  }
 ],
 "metadata": {
  "kernelspec": {
   "display_name": "Python [py27]",
   "language": "python",
   "name": "Python [py27]"
  },
  "language_info": {
   "codemirror_mode": {
    "name": "ipython",
    "version": 2
   },
   "file_extension": ".py",
   "mimetype": "text/x-python",
   "name": "python",
   "nbconvert_exporter": "python",
   "pygments_lexer": "ipython2",
   "version": "2.7.12"
  }
 },
 "nbformat": 4,
 "nbformat_minor": 1
}
